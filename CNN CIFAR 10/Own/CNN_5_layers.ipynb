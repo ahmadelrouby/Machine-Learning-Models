{
 "cells": [
  {
   "cell_type": "code",
   "execution_count": 1,
   "metadata": {},
   "outputs": [
    {
     "name": "stdout",
     "output_type": "stream",
     "text": [
      "('Training data shape: ', (50000, 32, 32, 3))\n",
      "('Training labels shape: ', (50000,))\n",
      "('Test data shape: ', (10000, 32, 32, 3))\n",
      "('Test labels shape: ', (10000,))\n",
      "Before Augmentation\n",
      "('Training data shape: ', (50000, 32, 32, 3))\n",
      "('Training labels shape: ', (50000,))\n",
      "('Test data shape: ', (10000, 32, 32, 3))\n",
      "('Test labels shape: ', (10000,))\n"
     ]
    }
   ],
   "source": [
    "import pyximport\n",
    "pyximport.install()\n",
    "\n",
    "from conv_layer import ConvolutionalLayer\n",
    "from dense import Dense\n",
    "from max_pool_layer import MaxPool\n",
    "from relu_activation import Relu\n",
    "from softmax_activation import Softmax\n",
    "from flatten import Flatten\n",
    "from batchnorm import BatchNormalization\n",
    "from dropout import Dropout\n",
    "from model import Model\n",
    "from data_utils import *\n",
    "import numpy as np\n",
    "\n",
    "np.random.seed(5)\n",
    "data = get_CIFAR10_data(draw=False)\n",
    "\n",
    "\n",
    "    "
   ]
  },
  {
   "cell_type": "code",
   "execution_count": 2,
   "metadata": {},
   "outputs": [
    {
     "name": "stdout",
     "output_type": "stream",
     "text": [
      "(32, 32, 32)\n",
      "(32, 32, 32)\n",
      "(64, 16, 16)\n",
      "(64, 16, 16)\n"
     ]
    }
   ],
   "source": [
    "model = Model(data['X_train'],data['y_train'],data['X_test'],data['y_test'],num_epochs=50,batch_size = 250)\n",
    "\n",
    "\n",
    "model.add_augmentation(  rotation_range=5,\n",
    "                         height_shift_range=0.16,\n",
    "                         width_shift_range=0.16,\n",
    "                         img_row_axis=1,\n",
    "                         img_col_axis=2,\n",
    "                         img_channel_axis=0,\n",
    "                         horizontal_flip=True,\n",
    "                         vertical_flip=False)\n",
    "\n",
    "#model.add_layer(BatchNormalization())\n",
    "\n",
    "\n",
    "\n",
    "model.add_layer(ConvolutionalLayer(num_filters=32))\n",
    "model.add_layer(Relu())\n",
    "model.add_layer(Dropout(prob=0.8))\n",
    "model.add_layer(ConvolutionalLayer(input_shape=[32,32,32],num_filters=32,filter_dims=[32,3,3]))\n",
    "model.add_layer(Relu())\n",
    "model.add_layer(MaxPool())\n",
    "\n",
    "\n",
    "model.add_layer(ConvolutionalLayer(input_shape=[32,16,16],num_filters=64,filter_dims=[32,3,3]))\n",
    "model.add_layer(Relu())\n",
    "model.add_layer(Dropout(prob=0.75))\n",
    "model.add_layer(ConvolutionalLayer(input_shape=[64,16,16],num_filters=64,filter_dims=[64,3,3]))\n",
    "model.add_layer(Relu())\n",
    "model.add_layer(MaxPool())\n",
    "\n"
   ]
  },
  {
   "cell_type": "code",
   "execution_count": 3,
   "metadata": {
    "collapsed": true
   },
   "outputs": [],
   "source": [
    "model.add_layer(Flatten())\n",
    "\n",
    "model.add_layer(Dropout(prob=0.85))\n",
    "\n",
    "model.add_layer(Dense(input_shape=4096,neurons=1024))\n",
    "model.add_layer(Relu())\n",
    "model.add_layer(Dropout(prob=0.80))\n",
    "\n",
    "\n",
    "\n",
    "model.add_layer(Dense(input_shape=1024,neurons=512))\n",
    "model.add_layer(Relu())\n",
    "model.add_layer(Dropout(prob=0.80))\n",
    "\n",
    "\n",
    "model.add_layer(Dense(input_shape=512,neurons=10))\n",
    "model.add_layer(Softmax())\n",
    "\n",
    "\n"
   ]
  },
  {
   "cell_type": "code",
   "execution_count": 4,
   "metadata": {},
   "outputs": [
    {
     "name": "stdout",
     "output_type": "stream",
     "text": [
      "[<conv_layer.ConvolutionalLayer instance at 0x7fb5bcb275f0>\n",
      " <relu_activation.Relu instance at 0x7fb5bcb27560>\n",
      " <dropout.Dropout instance at 0x7fb5bcb27758>\n",
      " <conv_layer.ConvolutionalLayer instance at 0x7fb5bcb277a0>\n",
      " <relu_activation.Relu instance at 0x7fb5bcb277e8>\n",
      " <max_pool_layer.MaxPool instance at 0x7fb5bcb27908>\n",
      " <conv_layer.ConvolutionalLayer instance at 0x7fb5bcb27950>\n",
      " <relu_activation.Relu instance at 0x7fb5bcb27998>\n",
      " <dropout.Dropout instance at 0x7fb5bcb27a70>\n",
      " <conv_layer.ConvolutionalLayer instance at 0x7fb5bcb27ab8>\n",
      " <relu_activation.Relu instance at 0x7fb5bcb27b00>\n",
      " <max_pool_layer.MaxPool instance at 0x7fb5bcb27bd8>\n",
      " <flatten.Flatten instance at 0x7fb5bcb27cb0>\n",
      " <dropout.Dropout instance at 0x7fb5cb8472d8>\n",
      " <dense.Dense instance at 0x7fb5bcb27cf8>\n",
      " <relu_activation.Relu instance at 0x7fb5bcb27d88>\n",
      " <dropout.Dropout instance at 0x7fb5bcb27e60>\n",
      " <dense.Dense instance at 0x7fb5bcb27dd0>\n",
      " <relu_activation.Relu instance at 0x7fb5bcb27ef0>\n",
      " <dropout.Dropout instance at 0x7fb5bcb27fc8>\n",
      " <dense.Dense instance at 0x7fb5bcb27f38>\n",
      " <softmax_activation.Softmax instance at 0x7fb5bcb23098>]\n"
     ]
    }
   ],
   "source": [
    "print (model.layers)\n"
   ]
  },
  {
   "cell_type": "code",
   "execution_count": 5,
   "metadata": {
    "scrolled": false
   },
   "outputs": [
    {
     "name": "stdout",
     "output_type": "stream",
     "text": [
      "('Accuracy increased from ', '0', '  to ', '0.1')------------] 0.0% ...Loss: 2.30258509394\n",
      "('Epoch: ', 0)\n",
      "('Training Accuracy: ', 0.092999999999999999)\n",
      "('Validation Accuracy: ', 0.10000000000000001)\n",
      "('Accuracy increased from ', '0.1', '  to ', '0.3587')=======] 99.5% ...Loss: 1.98752282673\n",
      "('Epoch: ', 1)\n",
      "('Training Accuracy: ', 0.32200000000000001)\n",
      "('Validation Accuracy: ', 0.35870000000000002)\n",
      "('Accuracy increased from ', '0.3587', '  to ', '0.4494')====] 99.5% ...Loss: 1.69468508791\n",
      "('Epoch: ', 2)\n",
      "('Training Accuracy: ', 0.42799999999999999)\n",
      "('Validation Accuracy: ', 0.44940000000000002)\n",
      "('Accuracy increased from ', '0.4494', '  to ', '0.5294')====] 99.5% ...Loss: 1.46990750453\n",
      "('Epoch: ', 3)\n",
      "('Training Accuracy: ', 0.53800000000000003)\n",
      "('Validation Accuracy: ', 0.52939999999999998)\n",
      "('Accuracy increased from ', '0.5294', '  to ', '0.5895')====] 99.5% ...Loss: 1.29415211981\n",
      "('Epoch: ', 4)\n",
      "('Training Accuracy: ', 0.61099999999999999)\n",
      "('Validation Accuracy: ', 0.58950000000000002)\n",
      "('Accuracy increased from ', '0.5895', '  to ', '0.6285')====] 99.5% ...Loss: 1.16448730597\n",
      "('Epoch: ', 5)\n",
      "('Training Accuracy: ', 0.64300000000000002)\n",
      "('Validation Accuracy: ', 0.62849999999999995)\n",
      "('Accuracy increased from ', '0.6285', '  to ', '0.6613')====] 99.5% ...Loss: 1.04987810827\n",
      "('Epoch: ', 6)\n",
      "('Training Accuracy: ', 0.67900000000000005)\n",
      "('Validation Accuracy: ', 0.6613)\n",
      "('Accuracy increased from ', '0.6613', '  to ', '0.7017')====] 99.5% ...Loss: 0.964764426175\n",
      "('Epoch: ', 7)\n",
      "('Training Accuracy: ', 0.70899999999999996)\n",
      "('Validation Accuracy: ', 0.70169999999999999)\n",
      "('Accuracy increased from ', '0.7017', '  to ', '0.7089')====] 99.5% ...Loss: 0.917730304499\n",
      "('Epoch: ', 8)\n",
      "('Training Accuracy: ', 0.73899999999999999)\n",
      "('Validation Accuracy: ', 0.70889999999999997)\n",
      "('Accuracy increased from ', '0.7089', '  to ', '0.7367')====] 99.5% ...Loss: 0.852621398644\n",
      "('Epoch: ', 9)\n",
      "('Training Accuracy: ', 0.77800000000000002)\n",
      "('Validation Accuracy: ', 0.73670000000000002)\n",
      "('Accuracy increased from ', '0.7367', '  to ', '0.752')=====] 99.5% ...Loss: 0.822436867062\n",
      "('Epoch: ', 10)\n",
      "('Training Accuracy: ', 0.78900000000000003)\n",
      "('Validation Accuracy: ', 0.752)\n",
      "('Epoch: ', 11)==============================================] 99.5% ...Loss: 0.790633221934\n",
      "('Training Accuracy: ', 0.77800000000000002)\n",
      "('Validation Accuracy: ', 0.749)\n",
      "('Accuracy increased from ', '0.752', '  to ', '0.7569')=====] 99.5% ...Loss: 0.756340557507\n",
      "('Epoch: ', 12)\n",
      "('Training Accuracy: ', 0.79100000000000004)\n",
      "('Validation Accuracy: ', 0.75690000000000002)\n",
      "('Epoch: ', 13)==============================================] 99.5% ...Loss: 0.742782497711\n",
      "('Training Accuracy: ', 0.79700000000000004)\n",
      "('Validation Accuracy: ', 0.75139999999999996)\n",
      "('Accuracy increased from ', '0.7569', '  to ', '0.7585')====] 99.5% ...Loss: 0.710572048455\n",
      "('Epoch: ', 14)\n",
      "('Training Accuracy: ', 0.78900000000000003)\n",
      "('Validation Accuracy: ', 0.75849999999999995)\n",
      "('Accuracy increased from ', '0.7585', '  to ', '0.7639')====] 99.5% ...Loss: 0.701264516752\n",
      "('Epoch: ', 15)\n",
      "('Training Accuracy: ', 0.80100000000000005)\n",
      "('Validation Accuracy: ', 0.76390000000000002)\n",
      "('Accuracy increased from ', '0.7639', '  to ', '0.7825')====] 99.5% ...Loss: 0.681044933272\n",
      "('Epoch: ', 16)\n",
      "('Training Accuracy: ', 0.82599999999999996)\n",
      "('Validation Accuracy: ', 0.78249999999999997)\n",
      "('Accuracy increased from ', '0.7825', '  to ', '0.7896')====] 99.5% ...Loss: 0.665282258425\n",
      "('Epoch: ', 17)\n",
      "('Training Accuracy: ', 0.81999999999999995)\n",
      "('Validation Accuracy: ', 0.78959999999999997)\n",
      "('Epoch: ', 18)==============================================] 99.5% ...Loss: 0.643934947688\n",
      "('Training Accuracy: ', 0.80700000000000005)\n",
      "('Validation Accuracy: ', 0.77990000000000004)\n",
      "('Epoch: ', 19)==============================================] 99.5% ...Loss: 0.631398034219\n",
      "('Training Accuracy: ', 0.81000000000000005)\n",
      "('Validation Accuracy: ', 0.77800000000000002)\n",
      "('Epoch: ', 20)==============================================] 99.5% ...Loss: 0.626490170128\n",
      "('Training Accuracy: ', 0.80900000000000005)\n",
      "('Validation Accuracy: ', 0.7893)\n",
      "('Accuracy increased from ', '0.7896', '  to ', '0.806')=====] 99.5% ...Loss: 0.610410319554\n",
      "('Epoch: ', 21)\n",
      "('Training Accuracy: ', 0.84399999999999997)\n",
      "('Validation Accuracy: ', 0.80600000000000005)\n",
      "('Epoch: ', 22)==============================================] 99.5% ...Loss: 0.617194911752\n",
      "('Training Accuracy: ', 0.80400000000000005)\n",
      "('Validation Accuracy: ', 0.78890000000000005)\n",
      "('Epoch: ', 23)==============================================] 99.5% ...Loss: 0.598295502987\n",
      "('Training Accuracy: ', 0.82599999999999996)\n",
      "('Validation Accuracy: ', 0.78500000000000003)\n",
      "('Epoch: ', 24)==============================================] 99.5% ...Loss: 0.593173824794\n",
      "('Training Accuracy: ', 0.80000000000000004)\n",
      "('Validation Accuracy: ', 0.76400000000000001)\n",
      "('Epoch: ', 25)==============================================] 99.5% ...Loss: 0.589324266649\n",
      "('Training Accuracy: ', 0.84999999999999998)\n",
      "('Validation Accuracy: ', 0.79979999999999996)\n",
      "('Epoch: ', 26)==============================================] 99.5% ...Loss: 0.575014476042\n",
      "('Training Accuracy: ', 0.86599999999999999)\n",
      "('Validation Accuracy: ', 0.80279999999999996)\n",
      "('Epoch: ', 27)==============================================] 99.5% ...Loss: 0.565062676173\n",
      "('Training Accuracy: ', 0.86199999999999999)\n",
      "('Validation Accuracy: ', 0.80349999999999999)\n",
      "('Accuracy increased from ', '0.806', '  to ', '0.8099')=====] 99.5% ...Loss: 0.559357447916\n",
      "('Epoch: ', 28)\n",
      "('Training Accuracy: ', 0.87)\n",
      "('Validation Accuracy: ', 0.80989999999999995)\n",
      "('Epoch: ', 29)==============================================] 99.5% ...Loss: 0.554276509987\n",
      "('Training Accuracy: ', 0.83199999999999996)\n",
      "('Validation Accuracy: ', 0.8044)\n",
      "('Accuracy increased from ', '0.8099', '  to ', '0.8101')====] 99.5% ...Loss: 0.555327271517\n",
      "('Epoch: ', 30)\n",
      "('Training Accuracy: ', 0.87)\n",
      "('Validation Accuracy: ', 0.81010000000000004)\n",
      "('Epoch: ', 31)==============================================] 99.5% ...Loss: 0.542542996984\n",
      "('Training Accuracy: ', 0.85899999999999999)\n",
      "('Validation Accuracy: ', 0.80869999999999997)\n",
      "('Accuracy increased from ', '0.8101', '  to ', '0.8102')====] 99.5% ...Loss: 0.546856448199\n",
      "('Epoch: ', 32)\n",
      "('Training Accuracy: ', 0.85199999999999998)\n",
      "('Validation Accuracy: ', 0.81020000000000003)\n",
      "('Accuracy increased from ', '0.8102', '  to ', '0.8151')====] 99.5% ...Loss: 0.538527385658\n",
      "('Epoch: ', 33)\n",
      "('Training Accuracy: ', 0.86299999999999999)\n",
      "('Validation Accuracy: ', 0.81510000000000005)\n",
      "('Accuracy increased from ', '0.8151', '  to ', '0.8152')====] 99.5% ...Loss: 0.531227109575\n",
      "('Epoch: ', 34)\n",
      "('Training Accuracy: ', 0.85899999999999999)\n",
      "('Validation Accuracy: ', 0.81520000000000004)\n",
      "('Epoch: ', 35)==============================================] 99.5% ...Loss: 0.529416765236\n",
      "('Training Accuracy: ', 0.85399999999999998)\n",
      "('Validation Accuracy: ', 0.81169999999999998)\n",
      "('Epoch: ', 36)==============================================] 99.5% ...Loss: 0.524606273213\n",
      "('Training Accuracy: ', 0.85399999999999998)\n",
      "('Validation Accuracy: ', 0.81220000000000003)\n",
      "('Epoch: ', 37)==============================================] 99.5% ...Loss: 0.502599365079\n",
      "('Training Accuracy: ', 0.85199999999999998)\n",
      "('Validation Accuracy: ', 0.81010000000000004)\n",
      "('Accuracy increased from ', '0.8152', '  to ', '0.8192')====] 99.5% ...Loss: 0.515528042534\n",
      "('Epoch: ', 38)\n",
      "('Training Accuracy: ', 0.86699999999999999)\n",
      "('Validation Accuracy: ', 0.81920000000000004)\n",
      "('Epoch: ', 39)==============================================] 99.5% ...Loss: 0.496550771327\n",
      "('Training Accuracy: ', 0.86099999999999999)\n",
      "('Validation Accuracy: ', 0.80610000000000004)\n",
      "('Epoch: ', 40)==============================================] 99.5% ...Loss: 0.510604320184\n",
      "('Training Accuracy: ', 0.878)\n",
      "('Validation Accuracy: ', 0.8175)\n",
      "('Epoch: ', 41)==============================================] 99.5% ...Loss: 0.502128492272\n",
      "('Training Accuracy: ', 0.86399999999999999)\n",
      "('Validation Accuracy: ', 0.81610000000000005)\n",
      "('Epoch: ', 42)==============================================] 99.5% ...Loss: 0.497739370536\n",
      "('Training Accuracy: ', 0.874)\n",
      "('Validation Accuracy: ', 0.81599999999999995)\n",
      "('Accuracy increased from ', '0.8192', '  to ', '0.8219')====] 99.5% ...Loss: 0.494828705688\n",
      "('Epoch: ', 43)\n",
      "('Training Accuracy: ', 0.85799999999999998)\n",
      "('Validation Accuracy: ', 0.82189999999999996)\n",
      "('Accuracy increased from ', '0.8219', '  to ', '0.8222')====] 99.5% ...Loss: 0.486177905671\n",
      "('Epoch: ', 44)\n",
      "('Training Accuracy: ', 0.90400000000000003)\n",
      "('Validation Accuracy: ', 0.82220000000000004)\n",
      "('Accuracy increased from ', '0.8222', '  to ', '0.824')=====] 99.5% ...Loss: 0.488717695567\n",
      "('Epoch: ', 45)\n",
      "('Training Accuracy: ', 0.88400000000000001)\n",
      "('Validation Accuracy: ', 0.82399999999999995)\n",
      "('Epoch: ', 46)==============================================] 99.5% ...Loss: 0.483198161096\n",
      "('Training Accuracy: ', 0.874)\n",
      "('Validation Accuracy: ', 0.8085)\n",
      "('Accuracy increased from ', '0.824', '  to ', '0.8258')=====] 99.5% ...Loss: 0.483927245206\n",
      "('Epoch: ', 47)\n",
      "('Training Accuracy: ', 0.88500000000000001)\n",
      "('Validation Accuracy: ', 0.82579999999999998)\n",
      "('Epoch: ', 48)==============================================] 99.5% ...Loss: 0.476571139799\n",
      "('Training Accuracy: ', 0.86799999999999999)\n",
      "('Validation Accuracy: ', 0.82130000000000003)\n",
      "('Epoch: ', 49)==============================================] 99.5% ...Loss: 0.473896444661\n",
      "('Training Accuracy: ', 0.88300000000000001)\n",
      "('Validation Accuracy: ', 0.82330000000000003)\n",
      "('Epoch: ', 50)==============================================] 99.5% ...Loss: 0.477202138746\n",
      "('Training Accuracy: ', 0.88400000000000001)\n",
      "('Validation Accuracy: ', 0.82279999999999998)\n"
     ]
    }
   ],
   "source": [
    "model.train()"
   ]
  },
  {
   "cell_type": "code",
   "execution_count": 6,
   "metadata": {},
   "outputs": [
    {
     "name": "stdout",
     "output_type": "stream",
     "text": [
      "0.8258\n"
     ]
    }
   ],
   "source": [
    "model.load_best()\n",
    "test_acc = model.check_accuracy(data['X_test'],data['y_test'])\n",
    "print (test_acc)\n"
   ]
  },
  {
   "cell_type": "code",
   "execution_count": 7,
   "metadata": {
    "collapsed": true
   },
   "outputs": [],
   "source": [
    "def predict(model, X, num_samples=None, batch_size=100):\n",
    "         # Maybe subsample the data\n",
    "        N = X.shape[0]\n",
    "        num_layers = model.layers.shape[0] \n",
    "        \n",
    "        if num_samples is not None and N > num_samples:\n",
    "            mask = np.random.choice(N, num_samples)\n",
    "            N = num_samples\n",
    "            X = X[mask]\n",
    "            y = y[mask]\n",
    "        \n",
    "        # Compute predictions in batches\n",
    "        num_batches = int(N / batch_size)\n",
    "        if N % batch_size != 0:\n",
    "          num_batches += 1\n",
    "        y_pred = []\n",
    "        for i in range(num_batches):\n",
    "            \n",
    "            start = i * batch_size\n",
    "            end = (i + 1) * batch_size\n",
    "          \n",
    "            output = None\n",
    "            for j in range(num_layers - 1):\n",
    "                if j == 0:\n",
    "                    output = model.layers[j].forward(X[start:end],mode=\"testing\")\n",
    "                else:\n",
    "                    output = model.layers[j].forward(output,mode=\"testing\")\n",
    "        \n",
    "            y_pred.append(np.argmax(output, axis=1))\n",
    "        y_pred = np.hstack(y_pred)\n",
    "        #acc = np.mean(y_pred == y)\n",
    "        \n",
    "        return y_pred"
   ]
  },
  {
   "cell_type": "code",
   "execution_count": 8,
   "metadata": {},
   "outputs": [
    {
     "name": "stdout",
     "output_type": "stream",
     "text": [
      "Average Accuracy: 0.8258\n",
      "Accuracy per Class: \n",
      "Class: 0 (plane), accuracy: 0.89\n",
      "Class: 1 (car), accuracy: 0.909\n",
      "Class: 2 (bird), accuracy: 0.69\n",
      "Class: 3 (cat), accuracy: 0.67\n",
      "Class: 4 (deer), accuracy: 0.817\n",
      "Class: 5 (dog), accuracy: 0.689\n",
      "Class: 6 (frog), accuracy: 0.924\n",
      "Class: 7 (horse), accuracy: 0.853\n",
      "Class: 8 (ship), accuracy: 0.889\n",
      "Class: 9 (truck), accuracy: 0.927\n"
     ]
    }
   ],
   "source": [
    "X_test = data['X_test']\n",
    "y_test = data['y_test']\n",
    "y_test_pred = predict(model,X_test)\n",
    "\n",
    "#test_acc = np.mean(y_test_pred == y_test)\n",
    "#print (\"Average Test Accuracy: \" + str(test_acc))\n",
    "\n",
    "\n",
    "classes = ['plane', 'car', 'bird', 'cat', 'deer', 'dog', 'frog', 'horse', 'ship', 'truck']\n",
    "num_classes = len(classes)\n",
    "\n",
    "answers_comparison = (y_test_pred == y_test)\n",
    "print (\"Average Accuracy: \" + str(np.mean(answers_comparison)))\n",
    "print (\"Accuracy per Class: \")\n",
    "class_accuracy = []\n",
    "for i in range(10):\n",
    "    idx = np.flatnonzero(y_test == i)\n",
    "    current_correct = np.sum(answers_comparison[idx])\n",
    "    current_accuracy = current_correct/1000.0\n",
    "    class_accuracy.append(current_accuracy)\n",
    "    print (\"Class: \"+ str(i)+ \" (\"+classes[i]+\")\" + \", accuracy: \" + str(current_accuracy))\n"
   ]
  },
  {
   "cell_type": "code",
   "execution_count": 9,
   "metadata": {},
   "outputs": [
    {
     "data": {
      "image/png": "[encoded data removed]",
      "text/plain": [
       "<matplotlib.figure.Figure at 0x7fb60459a390>"
      ]
     },
     "metadata": {},
     "output_type": "display_data"
    },
    {
     "data": {
      "image/png": "[encoded data removed]",
      "text/plain": [
       "<matplotlib.figure.Figure at 0x7fb5bc9e37d0>"
      ]
     },
     "metadata": {},
     "output_type": "display_data"
    }
   ],
   "source": [
    "plt.plot(model.actual_training_loss, '-')\n",
    "plt.title('Training loss history')\n",
    "plt.xlabel('Epoch')\n",
    "plt.ylabel('Training loss')\n",
    "plt.show()\n",
    "\n",
    "\n",
    "plt.plot(model.val_acc_history, 'r-')\n",
    "plt.plot(model.train_acc_history, 'b-')\n",
    "plt.title('Training/Validation Accuracy')\n",
    "plt.xlabel('Epoch')\n",
    "plt.ylabel('Accuracy')\n",
    "plt.show()"
   ]
  },
  {
   "cell_type": "code",
   "execution_count": 10,
   "metadata": {
    "collapsed": true
   },
   "outputs": [],
   "source": [
    "prev_loss = model.actual_training_loss\n",
    "prev_val_acc = model.val_acc_history\n",
    "prev_train_acc = model.train_acc_history"
   ]
  },
  {
   "cell_type": "code",
   "execution_count": 12,
   "metadata": {},
   "outputs": [],
   "source": [
    "import pickle\n",
    "with open(\"./saved/own_model_8258.file\", \"wb\") as f:\n",
    "    pickle.dump(model, f, pickle.HIGHEST_PROTOCOL)"
   ]
  },
  {
   "cell_type": "code",
   "execution_count": 13,
   "metadata": {
    "collapsed": true
   },
   "outputs": [],
   "source": [
    "model.num_epochs = 20"
   ]
  },
  {
   "cell_type": "code",
   "execution_count": 14,
   "metadata": {
    "scrolled": false
   },
   "outputs": [
    {
     "name": "stdout",
     "output_type": "stream",
     "text": [
      "('Accuracy increased from ', '0.8258', '  to ', '0.8297')----] 0.0% ...Loss: 0.430052127835\n",
      "('Epoch: ', 0)\n",
      "('Training Accuracy: ', 0.88600000000000001)\n",
      "('Validation Accuracy: ', 0.82969999999999999)\n",
      "('Accuracy increased from ', '0.8297', '  to ', '0.8314')====] 99.5% ...Loss: 0.476189455936\n",
      "('Epoch: ', 1)\n",
      "('Training Accuracy: ', 0.88400000000000001)\n",
      "('Validation Accuracy: ', 0.83140000000000003)\n",
      "('Epoch: ', 2)===============================================] 99.5% ...Loss: 0.475333998781\n",
      "('Training Accuracy: ', 0.879)\n",
      "('Validation Accuracy: ', 0.82499999999999996)\n",
      "('Epoch: ', 3)===============================================] 99.5% ...Loss: 0.468636846033\n",
      "('Training Accuracy: ', 0.90200000000000002)\n",
      "('Validation Accuracy: ', 0.82320000000000004)\n",
      "('Epoch: ', 4)===============================================] 99.5% ...Loss: 0.465321977521\n",
      "('Training Accuracy: ', 0.89000000000000001)\n",
      "('Validation Accuracy: ', 0.82479999999999998)\n",
      "('Epoch: ', 5)===============================================] 99.5% ...Loss: 0.461740803411\n",
      "('Training Accuracy: ', 0.88900000000000001)\n",
      "('Validation Accuracy: ', 0.82530000000000003)\n",
      "('Epoch: ', 6)===============================================] 99.5% ...Loss: 0.455387206997\n",
      "('Training Accuracy: ', 0.876)\n",
      "('Validation Accuracy: ', 0.82889999999999997)\n",
      "('Epoch: ', 7)===============================================] 99.5% ...Loss: 0.456694654098\n",
      "('Training Accuracy: ', 0.88)\n",
      "('Validation Accuracy: ', 0.82399999999999995)\n",
      "('Epoch: ', 8)===============================================] 99.5% ...Loss: 0.464301386979\n",
      "('Training Accuracy: ', 0.88)\n",
      "('Validation Accuracy: ', 0.82130000000000003)\n",
      "('Epoch: ', 9)===============================================] 99.5% ...Loss: 0.465480124956\n",
      "('Training Accuracy: ', 0.88800000000000001)\n",
      "('Validation Accuracy: ', 0.82420000000000004)\n",
      "('Epoch: ', 10)==============================================] 99.5% ...Loss: 0.458737470598\n",
      "('Training Accuracy: ', 0.873)\n",
      "('Validation Accuracy: ', 0.81799999999999995)\n",
      "('Accuracy increased from ', '0.8314', '  to ', '0.8358')====] 99.5% ...Loss: 0.451256384497\n",
      "('Epoch: ', 11)\n",
      "('Training Accuracy: ', 0.90400000000000003)\n",
      "('Validation Accuracy: ', 0.83579999999999999)\n",
      "('Epoch: ', 12)==============================================] 99.5% ...Loss: 0.454132101148\n",
      "('Training Accuracy: ', 0.89000000000000001)\n",
      "('Validation Accuracy: ', 0.82669999999999999)\n",
      "('Epoch: ', 13)==============================================] 99.5% ...Loss: 0.445105505846\n",
      "('Training Accuracy: ', 0.88100000000000001)\n",
      "('Validation Accuracy: ', 0.82640000000000002)\n",
      "('Epoch: ', 14)==============================================] 99.5% ...Loss: 0.446934387011\n",
      "('Training Accuracy: ', 0.86499999999999999)\n",
      "('Validation Accuracy: ', 0.81279999999999997)\n",
      "('Accuracy increased from ', '0.8358', '  to ', '0.8375')====] 99.5% ...Loss: 0.437424720486\n",
      "('Epoch: ', 15)\n",
      "('Training Accuracy: ', 0.88600000000000001)\n",
      "('Validation Accuracy: ', 0.83750000000000002)\n",
      "('Epoch: ', 16)==============================================] 99.5% ...Loss: 0.443384327846\n",
      "('Training Accuracy: ', 0.89700000000000002)\n",
      "('Validation Accuracy: ', 0.83279999999999998)\n",
      "('Epoch: ', 17)==============================================] 99.5% ...Loss: 0.437625395902\n",
      "('Training Accuracy: ', 0.91000000000000003)\n",
      "('Validation Accuracy: ', 0.8266)\n",
      "('Epoch: ', 18)==============================================] 99.5% ...Loss: 0.441805166663\n",
      "('Training Accuracy: ', 0.88700000000000001)\n",
      "('Validation Accuracy: ', 0.83709999999999996)\n",
      "('Epoch: ', 19)==============================================] 99.5% ...Loss: 0.442699177613\n",
      "('Training Accuracy: ', 0.878)\n",
      "('Validation Accuracy: ', 0.8266)\n",
      "('Epoch: ', 20)==============================================] 99.5% ...Loss: 0.439263603023\n",
      "('Training Accuracy: ', 0.88500000000000001)\n",
      "('Validation Accuracy: ', 0.83640000000000003)\n"
     ]
    }
   ],
   "source": [
    "model.train()"
   ]
  },
  {
   "cell_type": "code",
   "execution_count": 15,
   "metadata": {},
   "outputs": [
    {
     "name": "stdout",
     "output_type": "stream",
     "text": [
      "Average Accuracy: 0.8375\n",
      "Accuracy per Class: \n",
      "Class: 0 (plane), accuracy: 0.879\n",
      "Class: 1 (car), accuracy: 0.937\n",
      "Class: 2 (bird), accuracy: 0.779\n",
      "Class: 3 (cat), accuracy: 0.611\n",
      "Class: 4 (deer), accuracy: 0.846\n",
      "Class: 5 (dog), accuracy: 0.698\n",
      "Class: 6 (frog), accuracy: 0.936\n",
      "Class: 7 (horse), accuracy: 0.855\n",
      "Class: 8 (ship), accuracy: 0.898\n",
      "Class: 9 (truck), accuracy: 0.936\n"
     ]
    }
   ],
   "source": [
    "model.load_best()\n",
    "X_test = data['X_test']\n",
    "y_test = data['y_test']\n",
    "y_test_pred = predict(model,X_test)\n",
    "\n",
    "#test_acc = np.mean(y_test_pred == y_test)\n",
    "#print (\"Average Test Accuracy: \" + str(test_acc))\n",
    "\n",
    "\n",
    "classes = ['plane', 'car', 'bird', 'cat', 'deer', 'dog', 'frog', 'horse', 'ship', 'truck']\n",
    "num_classes = len(classes)\n",
    "\n",
    "answers_comparison = (y_test_pred == y_test)\n",
    "print (\"Average Accuracy: \" + str(np.mean(answers_comparison)))\n",
    "print (\"Accuracy per Class: \")\n",
    "class_accuracy = []\n",
    "for i in range(10):\n",
    "    idx = np.flatnonzero(y_test == i)\n",
    "    current_correct = np.sum(answers_comparison[idx])\n",
    "    current_accuracy = current_correct/1000.0\n",
    "    class_accuracy.append(current_accuracy)\n",
    "    print (\"Class: \"+ str(i)+ \" (\"+classes[i]+\")\" + \", accuracy: \" + str(current_accuracy))\n"
   ]
  },
  {
   "cell_type": "code",
   "execution_count": 17,
   "metadata": {},
   "outputs": [],
   "source": [
    "#new_loss = np.concatenate(prev_loss,model.actual_training_loss)\n",
    "#new_train_acc = np.concatenate(prev_train_acc,model.train_acc_history)\n",
    "#new_val_acc = np.concatenate(prev_val_acc,model.val_acc_history)\n",
    "\n",
    "\n",
    "new_loss = prev_loss + model.actual_training_loss\n",
    "new_train_acc = prev_train_acc + model.train_acc_history\n",
    "new_val_acc = prev_val_acc + model.val_acc_history\n"
   ]
  },
  {
   "cell_type": "code",
   "execution_count": 18,
   "metadata": {},
   "outputs": [
    {
     "data": {
      "image/png": "[encoded data removed]",
      "text/plain": [
       "<matplotlib.figure.Figure at 0x7fb5bc972950>"
      ]
     },
     "metadata": {},
     "output_type": "display_data"
    },
    {
     "data": {
      "image/png": "[encoded data removed]",
      "text/plain": [
       "<matplotlib.figure.Figure at 0x7fb5bcab8110>"
      ]
     },
     "metadata": {},
     "output_type": "display_data"
    }
   ],
   "source": [
    "plt.plot(new_loss, '-')\n",
    "plt.title('Training loss history')\n",
    "plt.xlabel('Epoch')\n",
    "plt.ylabel('Training loss')\n",
    "plt.show()\n",
    "\n",
    "\n",
    "plt.plot(new_val_acc, 'r-')\n",
    "plt.plot(new_train_acc, 'b-')\n",
    "plt.title('Training/Validation Accuracy')\n",
    "plt.xlabel('Epoch')\n",
    "plt.ylabel('Accuracy')\n",
    "plt.show()"
   ]
  },
  {
   "cell_type": "code",
   "execution_count": 19,
   "metadata": {
    "collapsed": true
   },
   "outputs": [],
   "source": [
    "prev_loss = model.actual_training_loss\n",
    "prev_val_acc = model.val_acc_history\n",
    "prev_train_acc = model.train_acc_history"
   ]
  },
  {
   "cell_type": "code",
   "execution_count": 20,
   "metadata": {},
   "outputs": [
    {
     "name": "stdout",
     "output_type": "stream",
     "text": [
      "('Epoch: ', 0)-----------------------------------------------] 0.0% ...Loss: 0.434650905104\n",
      "('Training Accuracy: ', 0.88200000000000001)\n",
      "('Validation Accuracy: ', 0.83720000000000006)\n",
      "('Epoch: ', 1)===============================================] 99.5% ...Loss: 0.449537889739\n",
      "('Training Accuracy: ', 0.88800000000000001)\n",
      "('Validation Accuracy: ', 0.82310000000000005)\n",
      "('Epoch: ', 2)===============================================] 99.5% ...Loss: 0.440353674285\n",
      "('Training Accuracy: ', 0.88800000000000001)\n",
      "('Validation Accuracy: ', 0.82250000000000001)\n",
      "('Epoch: ', 3)===============================================] 99.5% ...Loss: 0.438905399477\n",
      "('Training Accuracy: ', 0.874)\n",
      "('Validation Accuracy: ', 0.83109999999999995)\n",
      "('Epoch: ', 4)===============================================] 99.5% ...Loss: 0.432096365824\n",
      "('Training Accuracy: ', 0.875)\n",
      "('Validation Accuracy: ', 0.83250000000000002)\n",
      "('Epoch: ', 5)===============================================] 99.5% ...Loss: 0.441840680234\n",
      "('Training Accuracy: ', 0.84899999999999998)\n",
      "('Validation Accuracy: ', 0.83420000000000005)\n",
      "('Epoch: ', 6)===============================================] 99.5% ...Loss: 0.437136788257\n",
      "('Training Accuracy: ', 0.89100000000000001)\n",
      "('Validation Accuracy: ', 0.83389999999999997)\n",
      "('Epoch: ', 7)===============================================] 99.5% ...Loss: 0.440962151439\n",
      "('Training Accuracy: ', 0.89000000000000001)\n",
      "('Validation Accuracy: ', 0.83620000000000005)\n",
      "('Epoch: ', 8)===============================================] 99.5% ...Loss: 0.429656561349\n",
      "('Training Accuracy: ', 0.86799999999999999)\n",
      "('Validation Accuracy: ', 0.82609999999999995)\n",
      "('Epoch: ', 9)===============================================] 99.5% ...Loss: 0.427827546715\n",
      "('Training Accuracy: ', 0.86899999999999999)\n",
      "('Validation Accuracy: ', 0.83099999999999996)\n",
      "('Epoch: ', 10)==============================================] 99.5% ...Loss: 0.429274503921\n",
      "('Training Accuracy: ', 0.875)\n",
      "('Validation Accuracy: ', 0.83350000000000002)\n",
      "('Accuracy increased from ', '0.8375', '  to ', '0.8399')====] 99.5% ...Loss: 0.424048981781\n",
      "('Epoch: ', 11)\n",
      "('Training Accuracy: ', 0.89000000000000001)\n",
      "('Validation Accuracy: ', 0.83989999999999998)\n",
      "('Epoch: ', 12)==============================================] 99.5% ...Loss: 0.436095375893\n",
      "('Training Accuracy: ', 0.89600000000000002)\n",
      "('Validation Accuracy: ', 0.83420000000000005)\n",
      "('Epoch: ', 13)==============================================] 99.5% ...Loss: 0.424610164951\n",
      "('Training Accuracy: ', 0.89900000000000002)\n",
      "('Validation Accuracy: ', 0.83389999999999997)\n",
      "('Epoch: ', 14)==============================================] 99.5% ...Loss: 0.429908051568\n",
      "('Training Accuracy: ', 0.88100000000000001)\n",
      "('Validation Accuracy: ', 0.83130000000000004)\n",
      "('Epoch: ', 15)==============================================] 99.5% ...Loss: 0.422754748798\n",
      "('Training Accuracy: ', 0.90000000000000002)\n",
      "('Validation Accuracy: ', 0.83860000000000001)\n",
      "('Epoch: ', 16)==============================================] 99.5% ...Loss: 0.424821589352\n",
      "('Training Accuracy: ', 0.89500000000000002)\n",
      "('Validation Accuracy: ', 0.82940000000000003)\n",
      "('Epoch: ', 17)==============================================] 99.5% ...Loss: 0.426856385149\n",
      "('Training Accuracy: ', 0.88500000000000001)\n",
      "('Validation Accuracy: ', 0.81879999999999997)\n",
      "('Epoch: ', 18)==============================================] 99.5% ...Loss: 0.421618641673\n",
      "('Training Accuracy: ', 0.88900000000000001)\n",
      "('Validation Accuracy: ', 0.83409999999999995)\n",
      "('Epoch: ', 19)==============================================] 99.5% ...Loss: 0.417545465927\n",
      "('Training Accuracy: ', 0.90500000000000003)\n",
      "('Validation Accuracy: ', 0.8337)\n",
      "('Epoch: ', 20)==============================================] 99.5% ...Loss: 0.414604652604\n",
      "('Training Accuracy: ', 0.89000000000000001)\n",
      "('Validation Accuracy: ', 0.82779999999999998)\n"
     ]
    }
   ],
   "source": [
    "model.train()"
   ]
  },
  {
   "cell_type": "code",
   "execution_count": 21,
   "metadata": {},
   "outputs": [
    {
     "name": "stdout",
     "output_type": "stream",
     "text": [
      "Average Accuracy: 0.8399\n",
      "Accuracy per Class: \n",
      "Class: 0 (plane), accuracy: 0.865\n",
      "Class: 1 (car), accuracy: 0.916\n",
      "Class: 2 (bird), accuracy: 0.747\n",
      "Class: 3 (cat), accuracy: 0.646\n",
      "Class: 4 (deer), accuracy: 0.833\n",
      "Class: 5 (dog), accuracy: 0.724\n",
      "Class: 6 (frog), accuracy: 0.945\n",
      "Class: 7 (horse), accuracy: 0.899\n",
      "Class: 8 (ship), accuracy: 0.875\n",
      "Class: 9 (truck), accuracy: 0.949\n"
     ]
    }
   ],
   "source": [
    "model.load_best()\n",
    "X_test = data['X_test']\n",
    "y_test = data['y_test']\n",
    "y_test_pred = predict(model,X_test)\n",
    "\n",
    "#test_acc = np.mean(y_test_pred == y_test)\n",
    "#print (\"Average Test Accuracy: \" + str(test_acc))\n",
    "\n",
    "\n",
    "classes = ['plane', 'car', 'bird', 'cat', 'deer', 'dog', 'frog', 'horse', 'ship', 'truck']\n",
    "num_classes = len(classes)\n",
    "\n",
    "answers_comparison = (y_test_pred == y_test)\n",
    "print (\"Average Accuracy: \" + str(np.mean(answers_comparison)))\n",
    "print (\"Accuracy per Class: \")\n",
    "class_accuracy = []\n",
    "for i in range(10):\n",
    "    idx = np.flatnonzero(y_test == i)\n",
    "    current_correct = np.sum(answers_comparison[idx])\n",
    "    current_accuracy = current_correct/1000.0\n",
    "    class_accuracy.append(current_accuracy)\n",
    "    print (\"Class: \"+ str(i)+ \" (\"+classes[i]+\")\" + \", accuracy: \" + str(current_accuracy))"
   ]
  },
  {
   "cell_type": "code",
   "execution_count": 22,
   "metadata": {
    "collapsed": true
   },
   "outputs": [],
   "source": [
    "new_loss = prev_loss + model.actual_training_loss\n",
    "new_train_acc = prev_train_acc + model.train_acc_history\n",
    "new_val_acc = prev_val_acc + model.val_acc_history"
   ]
  },
  {
   "cell_type": "code",
   "execution_count": 25,
   "metadata": {
    "collapsed": true
   },
   "outputs": [],
   "source": [
    "model.load_best()\n",
    "model.add_augmentation(  rotation_range=5,\n",
    "                         height_shift_range=0.19,\n",
    "                         width_shift_range=0.21,\n",
    "                         img_row_axis=1,\n",
    "                         img_col_axis=2,\n",
    "                         img_channel_axis=0,\n",
    "                         horizontal_flip=True,\n",
    "                         vertical_flip=False)"
   ]
  },
  {
   "cell_type": "code",
   "execution_count": 26,
   "metadata": {},
   "outputs": [
    {
     "name": "stdout",
     "output_type": "stream",
     "text": [
      "('Accuracy increased from ', '0.8399', '  to ', '0.8412')----] 0.0% ...Loss: 0.416649906355\n",
      "('Epoch: ', 0)\n",
      "('Training Accuracy: ', 0.88100000000000001)\n",
      "('Validation Accuracy: ', 0.84119999999999995)\n",
      "('Epoch: ', 1)===============================================] 99.5% ...Loss: 0.467394733273\n",
      "('Training Accuracy: ', 0.89200000000000002)\n",
      "('Validation Accuracy: ', 0.8337)\n",
      "('Epoch: ', 2)===============================================] 99.5% ...Loss: 0.460100148187\n",
      "('Training Accuracy: ', 0.89500000000000002)\n",
      "('Validation Accuracy: ', 0.84009999999999996)\n",
      "('Epoch: ', 3)===============================================] 99.5% ...Loss: 0.459648421999\n",
      "('Training Accuracy: ', 0.90500000000000003)\n",
      "('Validation Accuracy: ', 0.82989999999999997)\n",
      "('Epoch: ', 4)===============================================] 99.5% ...Loss: 0.453941521688\n",
      "('Training Accuracy: ', 0.89000000000000001)\n",
      "('Validation Accuracy: ', 0.83630000000000004)\n",
      "[------------------------------------------------------------] 0.5% ...Loss: 0.449266154053\r"
     ]
    },
    {
     "ename": "KeyboardInterrupt",
     "evalue": "",
     "output_type": "error",
     "traceback": [
      "\u001b[0;31m---------------------------------------------------------------------------\u001b[0m",
      "\u001b[0;31mKeyboardInterrupt\u001b[0m                         Traceback (most recent call last)",
      "\u001b[0;32m<ipython-input-26-22a9f6312119>\u001b[0m in \u001b[0;36m<module>\u001b[0;34m()\u001b[0m\n\u001b[0;32m----> 1\u001b[0;31m \u001b[0mmodel\u001b[0m\u001b[0;34m.\u001b[0m\u001b[0mtrain\u001b[0m\u001b[0;34m(\u001b[0m\u001b[0;34m)\u001b[0m\u001b[0;34m\u001b[0m\u001b[0m\n\u001b[0m",
      "\u001b[0;32m/home/a.refaat/Documents/Rouby/assignment_3_withbatch/model.pyc\u001b[0m in \u001b[0;36mtrain\u001b[0;34m(self)\u001b[0m\n\u001b[1;32m    161\u001b[0m \u001b[0;34m\u001b[0m\u001b[0m\n\u001b[1;32m    162\u001b[0m         \u001b[0;32mfor\u001b[0m \u001b[0mt\u001b[0m \u001b[0;32min\u001b[0m \u001b[0mrange\u001b[0m\u001b[0;34m(\u001b[0m\u001b[0mnum_iterations\u001b[0m\u001b[0;34m)\u001b[0m\u001b[0;34m:\u001b[0m\u001b[0;34m\u001b[0m\u001b[0m\n\u001b[0;32m--> 163\u001b[0;31m             \u001b[0mself\u001b[0m\u001b[0;34m.\u001b[0m\u001b[0mstep\u001b[0m\u001b[0;34m(\u001b[0m\u001b[0;34m)\u001b[0m\u001b[0;34m\u001b[0m\u001b[0m\n\u001b[0m\u001b[1;32m    164\u001b[0m \u001b[0;34m\u001b[0m\u001b[0m\n\u001b[1;32m    165\u001b[0m             \u001b[0mtraining_num\u001b[0m \u001b[0;34m+=\u001b[0m \u001b[0;36m1\u001b[0m\u001b[0;34m\u001b[0m\u001b[0m\n",
      "\u001b[0;32m/home/a.refaat/Documents/Rouby/assignment_3_withbatch/model.pyc\u001b[0m in \u001b[0;36mstep\u001b[0;34m(self)\u001b[0m\n\u001b[1;32m    130\u001b[0m \u001b[0;34m\u001b[0m\u001b[0m\n\u001b[1;32m    131\u001b[0m         \u001b[0;32mfor\u001b[0m \u001b[0mi\u001b[0m \u001b[0;32min\u001b[0m \u001b[0mreversed\u001b[0m\u001b[0;34m(\u001b[0m\u001b[0mrange\u001b[0m\u001b[0;34m(\u001b[0m\u001b[0mnum_layers\u001b[0m\u001b[0;34m-\u001b[0m\u001b[0;36m1\u001b[0m\u001b[0;34m)\u001b[0m\u001b[0;34m)\u001b[0m\u001b[0;34m:\u001b[0m\u001b[0;34m\u001b[0m\u001b[0m\n\u001b[0;32m--> 132\u001b[0;31m             \u001b[0mdx\u001b[0m \u001b[0;34m=\u001b[0m \u001b[0mself\u001b[0m\u001b[0;34m.\u001b[0m\u001b[0mlayers\u001b[0m\u001b[0;34m[\u001b[0m\u001b[0mi\u001b[0m\u001b[0;34m]\u001b[0m\u001b[0;34m.\u001b[0m\u001b[0mbackward\u001b[0m\u001b[0;34m(\u001b[0m\u001b[0mdx\u001b[0m\u001b[0;34m)\u001b[0m\u001b[0;34m\u001b[0m\u001b[0m\n\u001b[0m\u001b[1;32m    133\u001b[0m \u001b[0;34m\u001b[0m\u001b[0m\n\u001b[1;32m    134\u001b[0m \u001b[0;34m\u001b[0m\u001b[0m\n",
      "\u001b[0;32m/home/a.refaat/Documents/Rouby/assignment_3_withbatch/conv_layer.pyc\u001b[0m in \u001b[0;36mbackward\u001b[0;34m(self, dout, mode)\u001b[0m\n",
      "\u001b[0;31mKeyboardInterrupt\u001b[0m: "
     ]
    }
   ],
   "source": [
    "model.train()"
   ]
  },
  {
   "cell_type": "code",
   "execution_count": 29,
   "metadata": {
    "collapsed": true
   },
   "outputs": [],
   "source": [
    "model.load_best()\n",
    "model.add_augmentation(  rotation_range=5,\n",
    "                         height_shift_range=0.19,\n",
    "                         width_shift_range=0.21,\n",
    "                         img_row_axis=1,\n",
    "                         img_col_axis=2,\n",
    "                         img_channel_axis=0,\n",
    "                         horizontal_flip=True,\n",
    "                         vertical_flip=False)"
   ]
  },
  {
   "cell_type": "code",
   "execution_count": 30,
   "metadata": {},
   "outputs": [
    {
     "name": "stdout",
     "output_type": "stream",
     "text": [
      "('Epoch: ', 0)-----------------------------------------------] 0.0% ...Loss: 0.516258341744\n",
      "('Training Accuracy: ', 0.90300000000000002)\n",
      "('Validation Accuracy: ', 0.84119999999999995)\n",
      "('Epoch: ', 1)===============================================] 99.5% ...Loss: 0.462959887639\n",
      "('Training Accuracy: ', 0.89400000000000002)\n",
      "('Validation Accuracy: ', 0.83130000000000004)\n",
      "('Epoch: ', 2)===============================================] 99.5% ...Loss: 0.462918830924\n",
      "('Training Accuracy: ', 0.89200000000000002)\n",
      "('Validation Accuracy: ', 0.83919999999999995)\n",
      "('Epoch: ', 3)===============================================] 99.5% ...Loss: 0.458645596478\n",
      "('Training Accuracy: ', 0.88900000000000001)\n",
      "('Validation Accuracy: ', 0.83009999999999995)\n",
      "('Epoch: ', 4)===============================================] 99.5% ...Loss: 0.454220571116\n",
      "('Training Accuracy: ', 0.89200000000000002)\n",
      "('Validation Accuracy: ', 0.82579999999999998)\n",
      "[------------------------------------------------------------] 0.5% ...Loss: 0.397979117297\r"
     ]
    },
    {
     "ename": "KeyboardInterrupt",
     "evalue": "",
     "output_type": "error",
     "traceback": [
      "\u001b[0;31m---------------------------------------------------------------------------\u001b[0m",
      "\u001b[0;31mKeyboardInterrupt\u001b[0m                         Traceback (most recent call last)",
      "\u001b[0;32m<ipython-input-30-22a9f6312119>\u001b[0m in \u001b[0;36m<module>\u001b[0;34m()\u001b[0m\n\u001b[0;32m----> 1\u001b[0;31m \u001b[0mmodel\u001b[0m\u001b[0;34m.\u001b[0m\u001b[0mtrain\u001b[0m\u001b[0;34m(\u001b[0m\u001b[0;34m)\u001b[0m\u001b[0;34m\u001b[0m\u001b[0m\n\u001b[0m",
      "\u001b[0;32m/home/a.refaat/Documents/Rouby/assignment_3_withbatch/model.pyc\u001b[0m in \u001b[0;36mtrain\u001b[0;34m(self)\u001b[0m\n\u001b[1;32m    161\u001b[0m \u001b[0;34m\u001b[0m\u001b[0m\n\u001b[1;32m    162\u001b[0m         \u001b[0;32mfor\u001b[0m \u001b[0mt\u001b[0m \u001b[0;32min\u001b[0m \u001b[0mrange\u001b[0m\u001b[0;34m(\u001b[0m\u001b[0mnum_iterations\u001b[0m\u001b[0;34m)\u001b[0m\u001b[0;34m:\u001b[0m\u001b[0;34m\u001b[0m\u001b[0m\n\u001b[0;32m--> 163\u001b[0;31m             \u001b[0mself\u001b[0m\u001b[0;34m.\u001b[0m\u001b[0mstep\u001b[0m\u001b[0;34m(\u001b[0m\u001b[0;34m)\u001b[0m\u001b[0;34m\u001b[0m\u001b[0m\n\u001b[0m\u001b[1;32m    164\u001b[0m \u001b[0;34m\u001b[0m\u001b[0m\n\u001b[1;32m    165\u001b[0m             \u001b[0mtraining_num\u001b[0m \u001b[0;34m+=\u001b[0m \u001b[0;36m1\u001b[0m\u001b[0;34m\u001b[0m\u001b[0m\n",
      "\u001b[0;32m/home/a.refaat/Documents/Rouby/assignment_3_withbatch/model.pyc\u001b[0m in \u001b[0;36mstep\u001b[0;34m(self)\u001b[0m\n\u001b[1;32m    123\u001b[0m                 \u001b[0moutput\u001b[0m \u001b[0;34m=\u001b[0m \u001b[0mself\u001b[0m\u001b[0;34m.\u001b[0m\u001b[0mlayers\u001b[0m\u001b[0;34m[\u001b[0m\u001b[0mi\u001b[0m\u001b[0;34m]\u001b[0m\u001b[0;34m.\u001b[0m\u001b[0mforward\u001b[0m\u001b[0;34m(\u001b[0m\u001b[0mX_batch\u001b[0m\u001b[0;34m)\u001b[0m\u001b[0;34m\u001b[0m\u001b[0m\n\u001b[1;32m    124\u001b[0m             \u001b[0;32melse\u001b[0m\u001b[0;34m:\u001b[0m\u001b[0;34m\u001b[0m\u001b[0m\n\u001b[0;32m--> 125\u001b[0;31m                 \u001b[0moutput\u001b[0m \u001b[0;34m=\u001b[0m \u001b[0mself\u001b[0m\u001b[0;34m.\u001b[0m\u001b[0mlayers\u001b[0m\u001b[0;34m[\u001b[0m\u001b[0mi\u001b[0m\u001b[0;34m]\u001b[0m\u001b[0;34m.\u001b[0m\u001b[0mforward\u001b[0m\u001b[0;34m(\u001b[0m\u001b[0moutput\u001b[0m\u001b[0;34m)\u001b[0m\u001b[0;34m\u001b[0m\u001b[0m\n\u001b[0m\u001b[1;32m    126\u001b[0m \u001b[0;34m\u001b[0m\u001b[0m\n\u001b[1;32m    127\u001b[0m \u001b[0;34m\u001b[0m\u001b[0m\n",
      "\u001b[0;32m/home/a.refaat/Documents/Rouby/assignment_3_withbatch/relu_activation.pyc\u001b[0m in \u001b[0;36mforward\u001b[0;34m(self, X, mode)\u001b[0m\n\u001b[1;32m     22\u001b[0m         \u001b[0;31m#out = np.maximum(alpha*X, X)\u001b[0m\u001b[0;34m\u001b[0m\u001b[0;34m\u001b[0m\u001b[0m\n\u001b[1;32m     23\u001b[0m         \u001b[0mself\u001b[0m\u001b[0;34m.\u001b[0m\u001b[0minput_cache\u001b[0m \u001b[0;34m=\u001b[0m \u001b[0mX\u001b[0m\u001b[0;34m\u001b[0m\u001b[0m\n\u001b[0;32m---> 24\u001b[0;31m         \u001b[0;32mreturn\u001b[0m \u001b[0mout\u001b[0m \u001b[0;34m*\u001b[0m \u001b[0mX\u001b[0m\u001b[0;34m\u001b[0m\u001b[0m\n\u001b[0m\u001b[1;32m     25\u001b[0m \u001b[0;34m\u001b[0m\u001b[0m\n\u001b[1;32m     26\u001b[0m     \u001b[0;32mdef\u001b[0m \u001b[0mbackward\u001b[0m\u001b[0;34m(\u001b[0m\u001b[0mself\u001b[0m\u001b[0;34m,\u001b[0m\u001b[0mdout\u001b[0m\u001b[0;34m,\u001b[0m\u001b[0mmode\u001b[0m\u001b[0;34m=\u001b[0m\u001b[0;34m\"training\"\u001b[0m\u001b[0;34m)\u001b[0m\u001b[0;34m:\u001b[0m\u001b[0;34m\u001b[0m\u001b[0m\n",
      "\u001b[0;31mKeyboardInterrupt\u001b[0m: "
     ]
    }
   ],
   "source": [
    "model.train()"
   ]
  },
  {
   "cell_type": "code",
   "execution_count": 31,
   "metadata": {},
   "outputs": [
    {
     "name": "stdout",
     "output_type": "stream",
     "text": [
      "Average Accuracy: 0.8412\n",
      "Accuracy per Class: \n",
      "Class: 0 (plane), accuracy: 0.872\n",
      "Class: 1 (car), accuracy: 0.92\n",
      "Class: 2 (bird), accuracy: 0.746\n",
      "Class: 3 (cat), accuracy: 0.64\n",
      "Class: 4 (deer), accuracy: 0.839\n",
      "Class: 5 (dog), accuracy: 0.735\n",
      "Class: 6 (frog), accuracy: 0.931\n",
      "Class: 7 (horse), accuracy: 0.898\n",
      "Class: 8 (ship), accuracy: 0.887\n",
      "Class: 9 (truck), accuracy: 0.944\n"
     ]
    }
   ],
   "source": [
    "model.load_best()\n",
    "X_test = data['X_test']\n",
    "y_test = data['y_test']\n",
    "y_test_pred = predict(model,X_test)\n",
    "\n",
    "#test_acc = np.mean(y_test_pred == y_test)\n",
    "#print (\"Average Test Accuracy: \" + str(test_acc))\n",
    "\n",
    "\n",
    "classes = ['plane', 'car', 'bird', 'cat', 'deer', 'dog', 'frog', 'horse', 'ship', 'truck']\n",
    "num_classes = len(classes)\n",
    "\n",
    "answers_comparison = (y_test_pred == y_test)\n",
    "print (\"Average Accuracy: \" + str(np.mean(answers_comparison)))\n",
    "print (\"Accuracy per Class: \")\n",
    "class_accuracy = []\n",
    "for i in range(10):\n",
    "    idx = np.flatnonzero(y_test == i)\n",
    "    current_correct = np.sum(answers_comparison[idx])\n",
    "    current_accuracy = current_correct/1000.0\n",
    "    class_accuracy.append(current_accuracy)\n",
    "    print (\"Class: \"+ str(i)+ \" (\"+classes[i]+\")\" + \", accuracy: \" + str(current_accuracy))"
   ]
  }
 ],
 "metadata": {
  "kernelspec": {
   "display_name": "Python 3",
   "language": "python",
   "name": "python3"
  },
  "language_info": {
   "codemirror_mode": {
    "name": "ipython",
    "version": 3
   },
   "file_extension": ".py",
   "mimetype": "text/x-python",
   "name": "python",
   "nbconvert_exporter": "python",
   "pygments_lexer": "ipython3",
   "version": "3.6.3"
  }
 },
 "nbformat": 4,
 "nbformat_minor": 2
}
