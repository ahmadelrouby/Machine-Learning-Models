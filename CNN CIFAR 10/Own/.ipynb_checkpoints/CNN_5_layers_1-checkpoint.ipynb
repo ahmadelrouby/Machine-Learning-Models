{
 "cells": [
  {
   "cell_type": "code",
   "execution_count": 1,
   "metadata": {},
   "outputs": [
    {
     "name": "stdout",
     "output_type": "stream",
     "text": [
      "Training data shape:  (50000, 32, 32, 3)\n",
      "Training labels shape:  (50000,)\n",
      "Test data shape:  (10000, 32, 32, 3)\n",
      "Test labels shape:  (10000,)\n",
      "Before Augmentation\n",
      "Training data shape:  (50000, 32, 32, 3)\n",
      "Training labels shape:  (50000,)\n",
      "Test data shape:  (10000, 32, 32, 3)\n",
      "Test labels shape:  (10000,)\n"
     ]
    }
   ],
   "source": [
    "import pyximport\n",
    "pyximport.install()\n",
    "\n",
    "from conv_layer import ConvolutionalLayer\n",
    "from dense import Dense\n",
    "from max_pool_layer import MaxPool\n",
    "from relu_activation import Relu\n",
    "from softmax_activation import Softmax\n",
    "from flatten import Flatten\n",
    "from batchnorm import BatchNormalization\n",
    "from dropout import Dropout\n",
    "from model import Model\n",
    "from data_utils import *\n",
    "import numpy as np\n",
    "\n",
    "np.random.seed(5)\n",
    "data = get_CIFAR10_data(draw=False)\n",
    "\n",
    "\n",
    "    "
   ]
  },
  {
   "cell_type": "code",
   "execution_count": 2,
   "metadata": {},
   "outputs": [
    {
     "name": "stdout",
     "output_type": "stream",
     "text": [
      "(32, 32, 32)\n",
      "(32, 32, 32)\n",
      "(64, 16, 16)\n",
      "(64, 16, 16)\n"
     ]
    }
   ],
   "source": [
    "model = Model(data['X_train'],data['y_train'],data['X_test'],data['y_test'],num_epochs=50,batch_size = 250)\n",
    "\n",
    "\n",
    "model.add_augmentation(  rotation_range=5,\n",
    "                         height_shift_range=0.16,\n",
    "                         width_shift_range=0.16,\n",
    "                         img_row_axis=1,\n",
    "                         img_col_axis=2,\n",
    "                         img_channel_axis=0,\n",
    "                         horizontal_flip=True,\n",
    "                         vertical_flip=False)\n",
    "\n",
    "#model.add_layer(BatchNormalization())\n",
    "\n",
    "\n",
    "\n",
    "model.add_layer(ConvolutionalLayer(num_filters=32))\n",
    "model.add_layer(Relu())\n",
    "model.add_layer(Dropout(prob=0.8))\n",
    "model.add_layer(ConvolutionalLayer(input_shape=[32,32,32],num_filters=32,filter_dims=[32,3,3]))\n",
    "model.add_layer(Relu())\n",
    "model.add_layer(MaxPool())\n",
    "\n",
    "\n",
    "model.add_layer(ConvolutionalLayer(input_shape=[32,16,16],num_filters=64,filter_dims=[32,3,3]))\n",
    "model.add_layer(Relu())\n",
    "model.add_layer(Dropout(prob=0.75))\n",
    "model.add_layer(ConvolutionalLayer(input_shape=[64,16,16],num_filters=64,filter_dims=[64,3,3]))\n",
    "model.add_layer(Relu())\n",
    "model.add_layer(MaxPool())\n",
    "\n"
   ]
  },
  {
   "cell_type": "code",
   "execution_count": 3,
   "metadata": {
    "collapsed": true
   },
   "outputs": [],
   "source": [
    "model.add_layer(Flatten())\n",
    "\n",
    "model.add_layer(Dropout(prob=0.85))\n",
    "\n",
    "model.add_layer(Dense(input_shape=4096,neurons=1024))\n",
    "model.add_layer(Relu())\n",
    "model.add_layer(Dropout(prob=0.80))\n",
    "\n",
    "\n",
    "\n",
    "model.add_layer(Dense(input_shape=1024,neurons=512))\n",
    "model.add_layer(Relu())\n",
    "model.add_layer(Dropout(prob=0.80))\n",
    "\n",
    "\n",
    "model.add_layer(Dense(input_shape=512,neurons=10))\n",
    "model.add_layer(Softmax())\n",
    "\n",
    "\n"
   ]
  },
  {
   "cell_type": "code",
   "execution_count": 4,
   "metadata": {},
   "outputs": [
    {
     "name": "stdout",
     "output_type": "stream",
     "text": [
      "[<conv_layer.ConvolutionalLayer object at 0x11613dc50>\n",
      " <relu_activation.Relu object at 0x11613dd30>\n",
      " <dropout.Dropout object at 0x11613deb8>\n",
      " <conv_layer.ConvolutionalLayer object at 0x11613def0>\n",
      " <relu_activation.Relu object at 0x11613de80>\n",
      " <max_pool_layer.MaxPool object at 0x11613dda0>\n",
      " <conv_layer.ConvolutionalLayer object at 0x11613dcc0>\n",
      " <relu_activation.Relu object at 0x11613dd68>\n",
      " <dropout.Dropout object at 0x11613dcf8>\n",
      " <conv_layer.ConvolutionalLayer object at 0x11613de10>\n",
      " <relu_activation.Relu object at 0x11613df28>\n",
      " <max_pool_layer.MaxPool object at 0x116139048>\n",
      " <flatten.Flatten object at 0x116098b70>\n",
      " <dropout.Dropout object at 0x1160988d0>\n",
      " <dense.Dense object at 0x1160984a8>\n",
      " <relu_activation.Relu object at 0x11608fa90>\n",
      " <dropout.Dropout object at 0x113a20470>\n",
      " <dense.Dense object at 0x1160984e0>\n",
      " <relu_activation.Relu object at 0x116098c88>\n",
      " <dropout.Dropout object at 0x116098c18>\n",
      " <dense.Dense object at 0x116098c50>\n",
      " <softmax_activation.Softmax object at 0x116098d30>]\n"
     ]
    }
   ],
   "source": [
    "print (model.layers)\n"
   ]
  },
  {
   "cell_type": "code",
   "execution_count": null,
   "metadata": {
    "scrolled": false
   },
   "outputs": [
    {
     "name": "stdout",
     "output_type": "stream",
     "text": [
      "[------------------------------------------------------------] 0.0% ...Loss: 2.3025850939376133\r"
     ]
    }
   ],
   "source": [
    "model.train()"
   ]
  },
  {
   "cell_type": "code",
   "execution_count": null,
   "metadata": {},
   "outputs": [],
   "source": [
    "model.load_best()\n",
    "test_acc = model.check_accuracy(data['X_test'],data['y_test'])\n",
    "print (test_acc)\n"
   ]
  },
  {
   "cell_type": "code",
   "execution_count": null,
   "metadata": {
    "collapsed": true
   },
   "outputs": [],
   "source": [
    "def predict(model, X, num_samples=None, batch_size=100):\n",
    "         # Maybe subsample the data\n",
    "        N = X.shape[0]\n",
    "        num_layers = model.layers.shape[0] \n",
    "        \n",
    "        if num_samples is not None and N > num_samples:\n",
    "            mask = np.random.choice(N, num_samples)\n",
    "            N = num_samples\n",
    "            X = X[mask]\n",
    "            y = y[mask]\n",
    "        \n",
    "        # Compute predictions in batches\n",
    "        num_batches = int(N / batch_size)\n",
    "        if N % batch_size != 0:\n",
    "          num_batches += 1\n",
    "        y_pred = []\n",
    "        for i in range(num_batches):\n",
    "            \n",
    "            start = i * batch_size\n",
    "            end = (i + 1) * batch_size\n",
    "          \n",
    "            output = None\n",
    "            for j in range(num_layers - 1):\n",
    "                if j == 0:\n",
    "                    output = model.layers[j].forward(X[start:end],mode=\"testing\")\n",
    "                else:\n",
    "                    output = model.layers[j].forward(output,mode=\"testing\")\n",
    "        \n",
    "            y_pred.append(np.argmax(output, axis=1))\n",
    "        y_pred = np.hstack(y_pred)\n",
    "        #acc = np.mean(y_pred == y)\n",
    "        \n",
    "        return y_pred"
   ]
  },
  {
   "cell_type": "code",
   "execution_count": null,
   "metadata": {},
   "outputs": [],
   "source": [
    "X_test = data['X_test']\n",
    "y_test = data['y_test']\n",
    "y_test_pred = predict(model,X_test)\n",
    "\n",
    "#test_acc = np.mean(y_test_pred == y_test)\n",
    "#print (\"Average Test Accuracy: \" + str(test_acc))\n",
    "\n",
    "\n",
    "classes = ['plane', 'car', 'bird', 'cat', 'deer', 'dog', 'frog', 'horse', 'ship', 'truck']\n",
    "num_classes = len(classes)\n",
    "\n",
    "answers_comparison = (y_test_pred == y_test)\n",
    "print (\"Average Accuracy: \" + str(np.mean(answers_comparison)))\n",
    "print (\"Accuracy per Class: \")\n",
    "class_accuracy = []\n",
    "for i in range(10):\n",
    "    idx = np.flatnonzero(y_test == i)\n",
    "    current_correct = np.sum(answers_comparison[idx])\n",
    "    current_accuracy = current_correct/1000.0\n",
    "    class_accuracy.append(current_accuracy)\n",
    "    print (\"Class: \"+ str(i)+ \" (\"+classes[i]+\")\" + \", accuracy: \" + str(current_accuracy))\n"
   ]
  },
  {
   "cell_type": "code",
   "execution_count": null,
   "metadata": {},
   "outputs": [],
   "source": [
    "plt.plot(model.actual_training_loss, '-')\n",
    "plt.title('Training loss history')\n",
    "plt.xlabel('Epoch')\n",
    "plt.ylabel('Training loss')\n",
    "plt.show()\n",
    "\n",
    "\n",
    "plt.plot(model.val_acc_history, 'r-')\n",
    "plt.plot(model.train_acc_history, 'b-')\n",
    "plt.title('Training/Validation Accuracy')\n",
    "plt.xlabel('Epoch')\n",
    "plt.ylabel('Accuracy')\n",
    "plt.show()"
   ]
  },
  {
   "cell_type": "code",
   "execution_count": null,
   "metadata": {
    "collapsed": true
   },
   "outputs": [],
   "source": [
    "prev_loss = model.actual_training_loss\n",
    "prev_val_acc = model.val_acc_history\n",
    "prev_train_acc = model.train_acc_history"
   ]
  },
  {
   "cell_type": "code",
   "execution_count": null,
   "metadata": {},
   "outputs": [],
   "source": [
    "import pickle\n",
    "with open(\"./saved/own_model_8258.file\", \"wb\") as f:\n",
    "    pickle.dump(model, f, pickle.HIGHEST_PROTOCOL)"
   ]
  },
  {
   "cell_type": "code",
   "execution_count": null,
   "metadata": {
    "collapsed": true
   },
   "outputs": [],
   "source": [
    "model.num_epochs = 20"
   ]
  },
  {
   "cell_type": "code",
   "execution_count": null,
   "metadata": {
    "scrolled": false
   },
   "outputs": [],
   "source": [
    "model.train()"
   ]
  },
  {
   "cell_type": "code",
   "execution_count": null,
   "metadata": {},
   "outputs": [],
   "source": [
    "model.load_best()\n",
    "X_test = data['X_test']\n",
    "y_test = data['y_test']\n",
    "y_test_pred = predict(model,X_test)\n",
    "\n",
    "#test_acc = np.mean(y_test_pred == y_test)\n",
    "#print (\"Average Test Accuracy: \" + str(test_acc))\n",
    "\n",
    "\n",
    "classes = ['plane', 'car', 'bird', 'cat', 'deer', 'dog', 'frog', 'horse', 'ship', 'truck']\n",
    "num_classes = len(classes)\n",
    "\n",
    "answers_comparison = (y_test_pred == y_test)\n",
    "print (\"Average Accuracy: \" + str(np.mean(answers_comparison)))\n",
    "print (\"Accuracy per Class: \")\n",
    "class_accuracy = []\n",
    "for i in range(10):\n",
    "    idx = np.flatnonzero(y_test == i)\n",
    "    current_correct = np.sum(answers_comparison[idx])\n",
    "    current_accuracy = current_correct/1000.0\n",
    "    class_accuracy.append(current_accuracy)\n",
    "    print (\"Class: \"+ str(i)+ \" (\"+classes[i]+\")\" + \", accuracy: \" + str(current_accuracy))\n"
   ]
  },
  {
   "cell_type": "code",
   "execution_count": null,
   "metadata": {},
   "outputs": [],
   "source": [
    "#new_loss = np.concatenate(prev_loss,model.actual_training_loss)\n",
    "#new_train_acc = np.concatenate(prev_train_acc,model.train_acc_history)\n",
    "#new_val_acc = np.concatenate(prev_val_acc,model.val_acc_history)\n",
    "\n",
    "\n",
    "new_loss = prev_loss + model.actual_training_loss\n",
    "new_train_acc = prev_train_acc + model.train_acc_history\n",
    "new_val_acc = prev_val_acc + model.val_acc_history\n"
   ]
  },
  {
   "cell_type": "code",
   "execution_count": null,
   "metadata": {},
   "outputs": [],
   "source": [
    "plt.plot(new_loss, '-')\n",
    "plt.title('Training loss history')\n",
    "plt.xlabel('Epoch')\n",
    "plt.ylabel('Training loss')\n",
    "plt.show()\n",
    "\n",
    "\n",
    "plt.plot(new_val_acc, 'r-')\n",
    "plt.plot(new_train_acc, 'b-')\n",
    "plt.title('Training/Validation Accuracy')\n",
    "plt.xlabel('Epoch')\n",
    "plt.ylabel('Accuracy')\n",
    "plt.show()"
   ]
  },
  {
   "cell_type": "code",
   "execution_count": null,
   "metadata": {
    "collapsed": true
   },
   "outputs": [],
   "source": [
    "prev_loss = model.actual_training_loss\n",
    "prev_val_acc = model.val_acc_history\n",
    "prev_train_acc = model.train_acc_history"
   ]
  },
  {
   "cell_type": "code",
   "execution_count": null,
   "metadata": {},
   "outputs": [],
   "source": [
    "model.train()"
   ]
  },
  {
   "cell_type": "code",
   "execution_count": null,
   "metadata": {},
   "outputs": [],
   "source": [
    "model.load_best()\n",
    "X_test = data['X_test']\n",
    "y_test = data['y_test']\n",
    "y_test_pred = predict(model,X_test)\n",
    "\n",
    "#test_acc = np.mean(y_test_pred == y_test)\n",
    "#print (\"Average Test Accuracy: \" + str(test_acc))\n",
    "\n",
    "\n",
    "classes = ['plane', 'car', 'bird', 'cat', 'deer', 'dog', 'frog', 'horse', 'ship', 'truck']\n",
    "num_classes = len(classes)\n",
    "\n",
    "answers_comparison = (y_test_pred == y_test)\n",
    "print (\"Average Accuracy: \" + str(np.mean(answers_comparison)))\n",
    "print (\"Accuracy per Class: \")\n",
    "class_accuracy = []\n",
    "for i in range(10):\n",
    "    idx = np.flatnonzero(y_test == i)\n",
    "    current_correct = np.sum(answers_comparison[idx])\n",
    "    current_accuracy = current_correct/1000.0\n",
    "    class_accuracy.append(current_accuracy)\n",
    "    print (\"Class: \"+ str(i)+ \" (\"+classes[i]+\")\" + \", accuracy: \" + str(current_accuracy))"
   ]
  },
  {
   "cell_type": "code",
   "execution_count": null,
   "metadata": {
    "collapsed": true
   },
   "outputs": [],
   "source": [
    "new_loss = prev_loss + model.actual_training_loss\n",
    "new_train_acc = prev_train_acc + model.train_acc_history\n",
    "new_val_acc = prev_val_acc + model.val_acc_history"
   ]
  },
  {
   "cell_type": "code",
   "execution_count": null,
   "metadata": {
    "collapsed": true
   },
   "outputs": [],
   "source": [
    "model.load_best()\n",
    "model.add_augmentation(  rotation_range=5,\n",
    "                         height_shift_range=0.19,\n",
    "                         width_shift_range=0.21,\n",
    "                         img_row_axis=1,\n",
    "                         img_col_axis=2,\n",
    "                         img_channel_axis=0,\n",
    "                         horizontal_flip=True,\n",
    "                         vertical_flip=False)"
   ]
  },
  {
   "cell_type": "code",
   "execution_count": null,
   "metadata": {},
   "outputs": [],
   "source": [
    "model.train()"
   ]
  },
  {
   "cell_type": "code",
   "execution_count": null,
   "metadata": {
    "collapsed": true
   },
   "outputs": [],
   "source": [
    "model.load_best()\n",
    "model.add_augmentation(  rotation_range=5,\n",
    "                         height_shift_range=0.19,\n",
    "                         width_shift_range=0.21,\n",
    "                         img_row_axis=1,\n",
    "                         img_col_axis=2,\n",
    "                         img_channel_axis=0,\n",
    "                         horizontal_flip=True,\n",
    "                         vertical_flip=False)"
   ]
  },
  {
   "cell_type": "code",
   "execution_count": null,
   "metadata": {},
   "outputs": [],
   "source": [
    "model.train()"
   ]
  },
  {
   "cell_type": "code",
   "execution_count": null,
   "metadata": {},
   "outputs": [],
   "source": [
    "model.load_best()\n",
    "X_test = data['X_test']\n",
    "y_test = data['y_test']\n",
    "y_test_pred = predict(model,X_test)\n",
    "\n",
    "#test_acc = np.mean(y_test_pred == y_test)\n",
    "#print (\"Average Test Accuracy: \" + str(test_acc))\n",
    "\n",
    "\n",
    "classes = ['plane', 'car', 'bird', 'cat', 'deer', 'dog', 'frog', 'horse', 'ship', 'truck']\n",
    "num_classes = len(classes)\n",
    "\n",
    "answers_comparison = (y_test_pred == y_test)\n",
    "print (\"Average Accuracy: \" + str(np.mean(answers_comparison)))\n",
    "print (\"Accuracy per Class: \")\n",
    "class_accuracy = []\n",
    "for i in range(10):\n",
    "    idx = np.flatnonzero(y_test == i)\n",
    "    current_correct = np.sum(answers_comparison[idx])\n",
    "    current_accuracy = current_correct/1000.0\n",
    "    class_accuracy.append(current_accuracy)\n",
    "    print (\"Class: \"+ str(i)+ \" (\"+classes[i]+\")\" + \", accuracy: \" + str(current_accuracy))"
   ]
  }
 ],
 "metadata": {
  "kernelspec": {
   "display_name": "Python 3",
   "language": "python",
   "name": "python3"
  },
  "language_info": {
   "codemirror_mode": {
    "name": "ipython",
    "version": 3
   },
   "file_extension": ".py",
   "mimetype": "text/x-python",
   "name": "python",
   "nbconvert_exporter": "python",
   "pygments_lexer": "ipython3",
   "version": "3.6.3"
  }
 },
 "nbformat": 4,
 "nbformat_minor": 2
}
