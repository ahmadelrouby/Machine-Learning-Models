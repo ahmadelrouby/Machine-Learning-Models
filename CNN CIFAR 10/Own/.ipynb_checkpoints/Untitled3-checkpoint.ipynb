{
 "cells": [
  {
   "cell_type": "code",
   "execution_count": 1,
   "metadata": {
    "collapsed": false,
    "deletable": true,
    "editable": true
   },
   "outputs": [
    {
     "name": "stdout",
     "output_type": "stream",
     "text": [
      "('Training data shape: ', (50000, 32, 32, 3))\n",
      "('Training labels shape: ', (50000,))\n",
      "('Test data shape: ', (10000, 32, 32, 3))\n",
      "('Test labels shape: ', (10000,))\n",
      "Before Augmentation\n",
      "('Training data shape: ', (50000, 32, 32, 3))\n",
      "('Training labels shape: ', (50000,))\n",
      "('Test data shape: ', (10000, 32, 32, 3))\n",
      "('Test labels shape: ', (10000,))\n"
     ]
    }
   ],
   "source": [
    "import pyximport\n",
    "pyximport.install()\n",
    "\n",
    "from conv_layer import ConvolutionalLayer\n",
    "from dense import Dense\n",
    "from max_pool_layer import MaxPool\n",
    "from relu_activation import Relu\n",
    "from softmax_activation import Softmax\n",
    "from flatten import Flatten\n",
    "from model import Model\n",
    "from data_utils import *\n",
    "import numpy as np\n",
    "\n",
    "\n",
    "np.random.rand(4)\n",
    "data = get_CIFAR10_data(draw=False)\n",
    "\n"
   ]
  },
  {
   "cell_type": "code",
   "execution_count": 2,
   "metadata": {
    "collapsed": true,
    "deletable": true,
    "editable": true
   },
   "outputs": [],
   "source": [
    "model = Model(data['X_train'],data['y_train'],data['X_test'],data['y_test'],num_epochs=50,batch_size = 250)\n",
    "\n",
    "\n",
    "model.add_augmentation(  rotation_range=5,\n",
    "                         height_shift_range=0.16,\n",
    "                         width_shift_range=0.16,\n",
    "                         img_row_axis=1,\n",
    "                         img_col_axis=2,\n",
    "                         img_channel_axis=0,\n",
    "                         horizontal_flip=True,\n",
    "                         vertical_flip=False)\n"
   ]
  },
  {
   "cell_type": "code",
   "execution_count": 3,
   "metadata": {
    "collapsed": false,
    "deletable": true,
    "editable": true
   },
   "outputs": [
    {
     "name": "stdout",
     "output_type": "stream",
     "text": [
      "(32, 32, 32)\n",
      "(32, 32, 32)\n",
      "(128, 16, 16)\n",
      "(128, 16, 16)\n"
     ]
    }
   ],
   "source": [
    "\n",
    "model.add_layer(ConvolutionalLayer(num_filters=32))\n",
    "model.add_layer(Relu())\n",
    "\n",
    "model.add_layer(ConvolutionalLayer(input_shape=[32,32,32],num_filters=32,filter_dims=[32,3,3]))\n",
    "model.add_layer(Relu())\n",
    "\n",
    "model.add_layer(MaxPool())\n",
    "\n",
    "model.add_layer(ConvolutionalLayer(input_shape=[32,16,16],num_filters=128,filter_dims=[32,3,3]))\n",
    "model.add_layer(Relu())\n",
    "\n",
    "model.add_layer(ConvolutionalLayer(input_shape=[128,16,16],num_filters=128,filter_dims=[128,3,3]))\n",
    "model.add_layer(Relu())\n",
    "\n",
    "\n",
    "model.add_layer(MaxPool())\n",
    "\n"
   ]
  },
  {
   "cell_type": "code",
   "execution_count": 4,
   "metadata": {
    "collapsed": true,
    "deletable": true,
    "editable": true
   },
   "outputs": [],
   "source": [
    "model.add_layer(Flatten())\n",
    "\n",
    "\n",
    "model.add_layer(Dense(input_shape=8192,neurons=1024,reg = 0))\n",
    "model.add_layer(Relu())\n",
    "\n",
    "model.add_layer(Dense(input_shape=1024,neurons=512, reg = 0))\n",
    "model.add_layer(Relu())\n",
    "\n",
    "\n",
    "model.add_layer(Dense(input_shape=512,neurons=10,reg=0))\n",
    "model.add_layer(Softmax())\n",
    "\n",
    "\n"
   ]
  },
  {
   "cell_type": "code",
   "execution_count": 5,
   "metadata": {
    "collapsed": false,
    "deletable": true,
    "editable": true
   },
   "outputs": [
    {
     "name": "stdout",
     "output_type": "stream",
     "text": [
      "[<conv_layer.ConvolutionalLayer instance at 0x7f2d00544c20>\n",
      " <relu_activation.Relu instance at 0x7f2d00544bd8>\n",
      " <conv_layer.ConvolutionalLayer instance at 0x7f2d00544cf8>\n",
      " <relu_activation.Relu instance at 0x7f2d00544d40>\n",
      " <max_pool_layer.MaxPool instance at 0x7f2d00544e60>\n",
      " <conv_layer.ConvolutionalLayer instance at 0x7f2d00544ea8>\n",
      " <relu_activation.Relu instance at 0x7f2d00544ef0>\n",
      " <conv_layer.ConvolutionalLayer instance at 0x7f2d00544fc8>\n",
      " <relu_activation.Relu instance at 0x7f2d00554050>\n",
      " <max_pool_layer.MaxPool instance at 0x7f2d00554128>\n",
      " <flatten.Flatten instance at 0x7f2d00554200>\n",
      " <dense.Dense instance at 0x7f2d005442d8>\n",
      " <relu_activation.Relu instance at 0x7f2d00554248>\n",
      " <dense.Dense instance at 0x7f2d00554320>\n",
      " <relu_activation.Relu instance at 0x7f2d00554368>\n",
      " <dense.Dense instance at 0x7f2d00554440>\n",
      " <softmax_activation.Softmax instance at 0x7f2d00554488>]\n"
     ]
    }
   ],
   "source": [
    "print (model.layers)"
   ]
  },
  {
   "cell_type": "code",
   "execution_count": 6,
   "metadata": {
    "collapsed": false,
    "deletable": true,
    "editable": true
   },
   "outputs": [
    {
     "name": "stdout",
     "output_type": "stream",
     "text": [
      "('Epoch: ', 0)-----------------------------------------------] 0.0% ...Loss: 2.30258509092\n",
      "('Training Accuracy: ', 0.099)\n",
      "('Validation Accuracy: ', 0.1)\n",
      "('Epoch: ', 1)===============================================] 99.5% ...Loss: 2.02074371653\n",
      "('Training Accuracy: ', 0.426)\n",
      "('Validation Accuracy: ', 0.4071)\n",
      "('Epoch: ', 2)===============================================] 99.5% ...Loss: 1.64406271044\n",
      "('Training Accuracy: ', 0.474)\n",
      "('Validation Accuracy: ', 0.4643)\n",
      "('Epoch: ', 3)===============================================] 99.5% ...Loss: 1.50178648125\n",
      "('Training Accuracy: ', 0.512)\n",
      "('Validation Accuracy: ', 0.5124)\n",
      "('Epoch: ', 4)===============================================] 99.5% ...Loss: 1.38840739333\n",
      "('Training Accuracy: ', 0.557)\n",
      "('Validation Accuracy: ', 0.5409)\n",
      "('Epoch: ', 5)===============================================] 99.5% ...Loss: 1.31144583599\n",
      "('Training Accuracy: ', 0.564)\n",
      "('Validation Accuracy: ', 0.5526)\n",
      "('Epoch: ', 6)===============================================] 99.5% ...Loss: 1.25086784005\n",
      "('Training Accuracy: ', 0.584)\n",
      "('Validation Accuracy: ', 0.5843)\n",
      "('Epoch: ', 7)===============================================] 99.5% ...Loss: 1.18814319988\n",
      "('Training Accuracy: ', 0.633)\n",
      "('Validation Accuracy: ', 0.6006)\n",
      "('Epoch: ', 8)===============================================] 99.5% ...Loss: 1.13608402656\n",
      "('Training Accuracy: ', 0.619)\n",
      "('Validation Accuracy: ', 0.6172)\n",
      "('Epoch: ', 9)===============================================] 99.5% ...Loss: 1.09913142836\n",
      "('Training Accuracy: ', 0.639)\n",
      "('Validation Accuracy: ', 0.6243)\n",
      "('Epoch: ', 10)==============================================] 99.5% ...Loss: 1.05974735406\n",
      "('Training Accuracy: ', 0.654)\n",
      "('Validation Accuracy: ', 0.6405)\n",
      "('Epoch: ', 11)==============================================] 99.5% ...Loss: 1.02779500867\n",
      "('Training Accuracy: ', 0.656)\n",
      "('Validation Accuracy: ', 0.6386)\n",
      "('Epoch: ', 12)==============================================] 99.5% ...Loss: 0.997338464941\n",
      "('Training Accuracy: ', 0.688)\n",
      "('Validation Accuracy: ', 0.6552)\n",
      "('Epoch: ', 13)==============================================] 99.5% ...Loss: 0.973645398841\n",
      "('Training Accuracy: ', 0.676)\n",
      "('Validation Accuracy: ', 0.6618)\n",
      "('Epoch: ', 14)==============================================] 99.5% ...Loss: 0.940205881817\n",
      "('Training Accuracy: ', 0.675)\n",
      "('Validation Accuracy: ', 0.6757)\n",
      "('Epoch: ', 15)==============================================] 99.5% ...Loss: 0.926227635833\n",
      "('Training Accuracy: ', 0.692)\n",
      "('Validation Accuracy: ', 0.6899)\n",
      "('Epoch: ', 16)==============================================] 99.5% ...Loss: 0.893344634559\n",
      "('Training Accuracy: ', 0.71)\n",
      "('Validation Accuracy: ', 0.6842)\n",
      "('Epoch: ', 17)==============================================] 99.5% ...Loss: 0.878612301527\n",
      "('Training Accuracy: ', 0.694)\n",
      "('Validation Accuracy: ', 0.6791)\n",
      "('Epoch: ', 18)==============================================] 99.5% ...Loss: 0.857980358905\n",
      "('Training Accuracy: ', 0.709)\n",
      "('Validation Accuracy: ', 0.6917)\n",
      "('Epoch: ', 19)==============================================] 99.5% ...Loss: 0.831937973219\n",
      "('Training Accuracy: ', 0.734)\n",
      "('Validation Accuracy: ', 0.6974)\n",
      "('Epoch: ', 20)==============================================] 99.5% ...Loss: 0.816829299804\n",
      "('Training Accuracy: ', 0.746)\n",
      "('Validation Accuracy: ', 0.7088)\n",
      "('Epoch: ', 21)==============================================] 99.5% ...Loss: 0.793714006833\n",
      "('Training Accuracy: ', 0.762)\n",
      "('Validation Accuracy: ', 0.7236)\n",
      "('Epoch: ', 22)==============================================] 99.5% ...Loss: 0.784978529498\n",
      "('Training Accuracy: ', 0.746)\n",
      "('Validation Accuracy: ', 0.7069)\n",
      "('Epoch: ', 23)==============================================] 99.5% ...Loss: 0.767179178948\n",
      "('Training Accuracy: ', 0.737)\n",
      "('Validation Accuracy: ', 0.7003)\n",
      "('Epoch: ', 24)==============================================] 99.5% ...Loss: 0.771345078332\n",
      "('Training Accuracy: ', 0.746)\n",
      "('Validation Accuracy: ', 0.72)\n",
      "('Epoch: ', 25)==============================================] 99.5% ...Loss: 0.747188000226\n",
      "('Training Accuracy: ', 0.728)\n",
      "('Validation Accuracy: ', 0.7216)\n",
      "('Epoch: ', 26)==============================================] 99.5% ...Loss: 0.732986561246\n",
      "('Training Accuracy: ', 0.738)\n",
      "('Validation Accuracy: ', 0.7044)\n",
      "('Epoch: ', 27)==============================================] 99.5% ...Loss: 0.720653308828\n",
      "('Training Accuracy: ', 0.793)\n",
      "('Validation Accuracy: ', 0.729)\n",
      "('Epoch: ', 28)==============================================] 99.5% ...Loss: 0.712511020966\n",
      "('Training Accuracy: ', 0.792)\n",
      "('Validation Accuracy: ', 0.7225)\n",
      "('Epoch: ', 29)==============================================] 99.5% ...Loss: 0.698047807464\n",
      "('Training Accuracy: ', 0.79)\n",
      "('Validation Accuracy: ', 0.7368)\n",
      "('Epoch: ', 30)==============================================] 99.5% ...Loss: 0.690201615111\n",
      "('Training Accuracy: ', 0.79)\n",
      "('Validation Accuracy: ', 0.7322)\n",
      "('Epoch: ', 31)==============================================] 99.5% ...Loss: 0.682198207813\n",
      "('Training Accuracy: ', 0.751)\n",
      "('Validation Accuracy: ', 0.7305)\n",
      "('Epoch: ', 32)==============================================] 99.5% ...Loss: 0.676949913248\n",
      "('Training Accuracy: ', 0.778)\n",
      "('Validation Accuracy: ', 0.7243)\n",
      "('Epoch: ', 33)==============================================] 99.5% ...Loss: 0.664310883564\n",
      "('Training Accuracy: ', 0.779)\n",
      "('Validation Accuracy: ', 0.7307)\n",
      "('Epoch: ', 34)==============================================] 99.5% ...Loss: 0.650769937631\n",
      "('Training Accuracy: ', 0.782)\n",
      "('Validation Accuracy: ', 0.7281)\n",
      "('Epoch: ', 35)==============================================] 99.5% ...Loss: 0.647138963714\n",
      "('Training Accuracy: ', 0.788)\n",
      "('Validation Accuracy: ', 0.7199)\n",
      "('Epoch: ', 36)==============================================] 99.5% ...Loss: 0.645591407057\n",
      "('Training Accuracy: ', 0.791)\n",
      "('Validation Accuracy: ', 0.7331)\n",
      "('Epoch: ', 37)==============================================] 99.5% ...Loss: 0.632925081224\n",
      "('Training Accuracy: ', 0.768)\n",
      "('Validation Accuracy: ', 0.7284)\n",
      "('Epoch: ', 38)==============================================] 99.5% ...Loss: 0.613834645716\n",
      "('Training Accuracy: ', 0.783)\n",
      "('Validation Accuracy: ', 0.73)\n",
      "('Epoch: ', 39)==============================================] 99.5% ...Loss: 0.621881958888\n",
      "('Training Accuracy: ', 0.813)\n",
      "('Validation Accuracy: ', 0.7356)\n",
      "('Epoch: ', 40)==============================================] 99.5% ...Loss: 0.615804243434\n",
      "('Training Accuracy: ', 0.813)\n",
      "('Validation Accuracy: ', 0.7429)\n",
      "('Epoch: ', 41)==============================================] 99.5% ...Loss: 0.601026567488\n",
      "('Training Accuracy: ', 0.786)\n",
      "('Validation Accuracy: ', 0.7377)\n",
      "('Epoch: ', 42)==============================================] 99.5% ...Loss: 0.595498605402\n",
      "('Training Accuracy: ', 0.819)\n",
      "('Validation Accuracy: ', 0.7448)\n",
      "('Epoch: ', 43)==============================================] 99.5% ...Loss: 0.582945593444\n",
      "('Training Accuracy: ', 0.82)\n",
      "('Validation Accuracy: ', 0.7411)\n",
      "('Epoch: ', 44)==============================================] 99.5% ...Loss: 0.576295425702\n",
      "('Training Accuracy: ', 0.803)\n",
      "('Validation Accuracy: ', 0.7447)\n",
      "('Epoch: ', 45)==============================================] 99.5% ...Loss: 0.585514873695\n",
      "('Training Accuracy: ', 0.81)\n",
      "('Validation Accuracy: ', 0.734)\n",
      "('Epoch: ', 46)==============================================] 99.5% ...Loss: 0.577421854687\n",
      "('Training Accuracy: ', 0.808)\n",
      "('Validation Accuracy: ', 0.7436)\n",
      "('Epoch: ', 47)==============================================] 99.5% ...Loss: 0.573486287986\n",
      "('Training Accuracy: ', 0.807)\n",
      "('Validation Accuracy: ', 0.7487)\n",
      "('Epoch: ', 48)==============================================] 99.5% ...Loss: 0.561328753695\n",
      "('Training Accuracy: ', 0.792)\n",
      "('Validation Accuracy: ', 0.7432)\n",
      "('Epoch: ', 49)==============================================] 99.5% ...Loss: 0.549348241201\n",
      "('Training Accuracy: ', 0.821)\n",
      "('Validation Accuracy: ', 0.7428)\n",
      "('Epoch: ', 50)==============================================] 99.5% ...Loss: 0.559108196182\n",
      "('Training Accuracy: ', 0.796)\n",
      "('Validation Accuracy: ', 0.7255)\n"
     ]
    }
   ],
   "source": [
    "model.train()"
   ]
  },
  {
   "cell_type": "code",
   "execution_count": 7,
   "metadata": {
    "collapsed": false,
    "deletable": true,
    "editable": true
   },
   "outputs": [
    {
     "name": "stdout",
     "output_type": "stream",
     "text": [
      "0.7255\n"
     ]
    }
   ],
   "source": [
    "test_acc = model.check_accuracy(data['X_test'],data['y_test'])\n",
    "print (test_acc)"
   ]
  },
  {
   "cell_type": "code",
   "execution_count": 8,
   "metadata": {
    "collapsed": true,
    "deletable": true,
    "editable": true
   },
   "outputs": [],
   "source": [
    "import pickle\n",
    "with open(\"model.file\", \"wb\") as f:\n",
    "    pickle.dump(model, f, pickle.HIGHEST_PROTOCOL)"
   ]
  },
  {
   "cell_type": "code",
   "execution_count": 9,
   "metadata": {
    "collapsed": false,
    "deletable": true,
    "editable": true
   },
   "outputs": [
    {
     "data": {
      "image/png": "[encoded data removed]",
      "text/plain": [
       "<matplotlib.figure.Figure at 0x7f2cf1814c90>"
      ]
     },
     "metadata": {},
     "output_type": "display_data"
    },
    {
     "data": {
      "image/png": "[encoded data removed]",
      "text/plain": [
       "<matplotlib.figure.Figure at 0x7f2ce669bf10>"
      ]
     },
     "metadata": {},
     "output_type": "display_data"
    }
   ],
   "source": [
    "plt.plot(model.actual_training_loss, '-')\n",
    "plt.title('Training loss history')\n",
    "plt.xlabel('Epoch')\n",
    "plt.ylabel('Training loss')\n",
    "plt.show()\n",
    "\n",
    "\n",
    "plt.plot(model.val_acc_history, 'r-')\n",
    "plt.plot(model.train_acc_history, 'b-')\n",
    "plt.title('Training/Validation Accuracy')\n",
    "plt.xlabel('Epoch')\n",
    "plt.ylabel('Accuracy')\n",
    "plt.show()"
   ]
  },
  {
   "cell_type": "code",
   "execution_count": 2,
   "metadata": {
    "collapsed": true
   },
   "outputs": [],
   "source": [
    "with open(\"model.file\", \"rb\") as f:\n",
    "    model = pickle.load(f)"
   ]
  },
  {
   "cell_type": "code",
   "execution_count": 3,
   "metadata": {
    "collapsed": false
   },
   "outputs": [
    {
     "name": "stdout",
     "output_type": "stream",
     "text": [
      "[<conv_layer.ConvolutionalLayer instance at 0x7f740ad8c1b8>\n",
      " <relu_activation.Relu instance at 0x7f740ad8c290>\n",
      " <conv_layer.ConvolutionalLayer instance at 0x7f740ad8c2d8>\n",
      " <relu_activation.Relu instance at 0x7f740ad8c3b0>\n",
      " <max_pool_layer.MaxPool instance at 0x7f740ad8c3f8>\n",
      " <conv_layer.ConvolutionalLayer instance at 0x7f740ad8c440>\n",
      " <relu_activation.Relu instance at 0x7f740ad8c518>\n",
      " <conv_layer.ConvolutionalLayer instance at 0x7f740ad8c560>\n",
      " <relu_activation.Relu instance at 0x7f740ad8c638>\n",
      " <max_pool_layer.MaxPool instance at 0x7f740ad8c680>\n",
      " <flatten.Flatten instance at 0x7f740ad8c6c8>\n",
      " <dense.Dense instance at 0x7f740ad8c710>\n",
      " <relu_activation.Relu instance at 0x7f740ad8c7e8>\n",
      " <dense.Dense instance at 0x7f740ad8c830>\n",
      " <relu_activation.Relu instance at 0x7f740ad8c908>\n",
      " <dense.Dense instance at 0x7f740ad8c950>\n",
      " <softmax_activation.Softmax instance at 0x7f740ad8ca28>]\n"
     ]
    }
   ],
   "source": [
    "print (model.layers)"
   ]
  },
  {
   "cell_type": "code",
   "execution_count": null,
   "metadata": {
    "collapsed": false,
    "deletable": true,
    "editable": true
   },
   "outputs": [
    {
     "name": "stdout",
     "output_type": "stream",
     "text": [
      "('Epoch: ', 0)-----------------------------------------------] 0.0% ...Loss: 0.601390640753\n",
      "('Training Accuracy: ', 0.79700000000000004)\n",
      "('Validation Accuracy: ', 0.73450000000000004)\n",
      "('Epoch: ', 1)===============================================] 99.5% ...Loss: 0.535199456374\n",
      "('Training Accuracy: ', 0.83699999999999997)\n",
      "('Validation Accuracy: ', 0.75619999999999998)\n",
      "('Epoch: ', 2)===============================================] 99.5% ...Loss: 0.545849943697\n",
      "('Training Accuracy: ', 0.82999999999999996)\n",
      "('Validation Accuracy: ', 0.74780000000000002)\n",
      "[====================================------------------------] 60.2% ...Loss: 0.537346963849\r"
     ]
    }
   ],
   "source": [
    "model.train()"
   ]
  },
  {
   "cell_type": "code",
   "execution_count": null,
   "metadata": {
    "collapsed": true
   },
   "outputs": [],
   "source": []
  }
 ],
 "metadata": {
  "kernelspec": {
   "display_name": "Python 2",
   "language": "python",
   "name": "python2"
  },
  "language_info": {
   "codemirror_mode": {
    "name": "ipython",
    "version": 2
   },
   "file_extension": ".py",
   "mimetype": "text/x-python",
   "name": "python",
   "nbconvert_exporter": "python",
   "pygments_lexer": "ipython2",
   "version": "2.7.12"
  }
 },
 "nbformat": 4,
 "nbformat_minor": 2
}
