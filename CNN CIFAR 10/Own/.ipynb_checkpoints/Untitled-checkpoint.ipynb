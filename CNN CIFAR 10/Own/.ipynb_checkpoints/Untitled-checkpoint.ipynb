{
 "cells": [
  {
   "cell_type": "code",
   "execution_count": null,
   "metadata": {
    "collapsed": true
   },
   "outputs": [],
   "source": [
    "# %load cnn.py\n",
    "#!/usr/bin/env python3\n",
    "\"\"\"\n",
    "Created on Sun Apr  1 01:48:04 2018\n",
    "\n",
    "@author: ahmadrefaat\n",
    "\"\"\"\n",
    "\n",
    "import pyximport\n",
    "pyximport.install()\n",
    "\n",
    "from conv_layer import ConvolutionalLayer\n",
    "from dense import Dense\n",
    "from max_pool_layer import MaxPool\n",
    "from relu_activation import Relu\n",
    "from softmax_activation import Softmax\n",
    "from flatten import Flatten\n",
    "from model import Model\n",
    "from data_utils import *\n",
    "\n",
    "\n",
    "\n",
    "data = get_CIFAR10_data()\n",
    "\n",
    "\n",
    "\n"
   ]
  },
  {
   "cell_type": "code",
   "execution_count": null,
   "metadata": {
    "collapsed": true
   },
   "outputs": [],
   "source": [
    "model = Model(data['X_train'],data['y_train'],data['X_test'],data['y_test'],num_epochs=50,batch_size = 250)\n",
    "\n",
    "\n",
    "model.add_augmentation(  rotation_range=5,\n",
    "                         height_shift_range=0.16,\n",
    "                         width_shift_range=0.16,\n",
    "                         img_row_axis=1,\n",
    "                         img_col_axis=2,\n",
    "                         img_channel_axis=0,\n",
    "                         horizontal_flip=True,\n",
    "                         vertical_flip=False)\n",
    "\n",
    "\n",
    "\n",
    "model.add_layer(ConvolutionalLayer(num_filters=32))\n",
    "model.add_layer(Relu())\n",
    "\n",
    "model.add_layer(ConvolutionalLayer(input_shape=[32,32,32],num_filters=32,filter_dims=[32,3,3]))\n",
    "model.add_layer(Relu())\n",
    "\n",
    "model.add_layer(MaxPool())\n",
    "\n",
    "\n",
    "model.add_layer(ConvolutionalLayer(input_shape=[32,16,16],num_filters=64,filter_dims=[32,3,3]))\n",
    "model.add_layer(Relu())\n",
    "\n",
    "model.add_layer(ConvolutionalLayer(input_shape=[64,16,16],num_filters=64,filter_dims=[64,3,3]))\n",
    "model.add_layer(Relu())\n",
    "\n",
    "\n",
    "model.add_layer(MaxPool())\n",
    "\n",
    "\n",
    "\n",
    "model.add_layer(Flatten())\n",
    "\n",
    "model.add_layer(Dense(input_shape=4096,neurons=512))\n",
    "model.add_layer(Relu())\n",
    "\n",
    "\n",
    "#model.add_layer(Dense(input_shape=1000,neurons=650))\n",
    "#model.add_layer(Relu())\n",
    "\n",
    "\n",
    "model.add_layer(Dense(input_shape=512,neurons=10))\n",
    "model.add_layer(Softmax())"
   ]
  },
  {
   "cell_type": "code",
   "execution_count": null,
   "metadata": {
    "collapsed": true
   },
   "outputs": [],
   "source": [
    "model = Model(data['X_train'],data['y_train'],data['X_val'],data['y_val'],num_epochs=50,batch_size = 250)\n",
    "\n",
    "model.add_augmentation(  rotation_range=5,\n",
    "                         height_shift_range=0.16,\n",
    "                         width_shift_range=0.16,\n",
    "                         img_row_axis=1,\n",
    "                         img_col_axis=2,\n",
    "                         img_channel_axis=0,\n",
    "                         horizontal_flip=True,\n",
    "                         vertical_flip=False)\n",
    "\n",
    "\n",
    "\n",
    "model.add_layer(Flatten())\n",
    "\n",
    "model.add_layer(Dense(input_shape=3072,neurons=1000))\n",
    "model.add_layer(Relu())\n",
    "\n",
    "\n",
    "model.add_layer(Dense(input_shape=1000,neurons=650))\n",
    "model.add_layer(Relu())\n",
    "\n",
    "\n",
    "model.add_layer(Dense(input_shape=650,neurons=120))\n",
    "model.add_layer(Relu())\n",
    "\n",
    "\n",
    "model.add_layer(Dense(input_shape=120,neurons=10))\n",
    "model.add_layer(Softmax())"
   ]
  },
  {
   "cell_type": "code",
   "execution_count": null,
   "metadata": {
    "collapsed": true
   },
   "outputs": [],
   "source": [
    "print (model.layers)"
   ]
  },
  {
   "cell_type": "code",
   "execution_count": null,
   "metadata": {
    "collapsed": true
   },
   "outputs": [],
   "source": [
    "model.train()"
   ]
  },
  {
   "cell_type": "code",
   "execution_count": null,
   "metadata": {
    "collapsed": true
   },
   "outputs": [],
   "source": [
    "test_acc = model.check_accuracy(data['X_test'],data['y_test'])"
   ]
  },
  {
   "cell_type": "code",
   "execution_count": null,
   "metadata": {
    "collapsed": true
   },
   "outputs": [],
   "source": [
    "import pickle\n",
    "with open(\"model.file\", \"wb\") as f:\n",
    "    pickle.dump(model, f, pickle.HIGHEST_PROTOCOL)\n"
   ]
  },
  {
   "cell_type": "code",
   "execution_count": null,
   "metadata": {
    "collapsed": true
   },
   "outputs": [],
   "source": [
    "print (test_acc)"
   ]
  },
  {
   "cell_type": "code",
   "execution_count": null,
   "metadata": {
    "collapsed": true
   },
   "outputs": [],
   "source": [
    "with open(\"model.file\", \"rb\") as f:\n",
    "    model = pickle.load(f)"
   ]
  },
  {
   "cell_type": "code",
   "execution_count": null,
   "metadata": {
    "collapsed": true
   },
   "outputs": [],
   "source": [
    "test_acc = model.check_accuracy(data['X_test'],data['y_test'])"
   ]
  },
  {
   "cell_type": "code",
   "execution_count": null,
   "metadata": {
    "collapsed": true
   },
   "outputs": [],
   "source": []
  }
 ],
 "metadata": {
  "kernelspec": {
   "display_name": "Python 3",
   "language": "python",
   "name": "python3"
  },
  "language_info": {
   "codemirror_mode": {
    "name": "ipython",
    "version": 3
   },
   "file_extension": ".py",
   "mimetype": "text/x-python",
   "name": "python",
   "nbconvert_exporter": "python",
   "pygments_lexer": "ipython3",
   "version": "3.6.3"
  }
 },
 "nbformat": 4,
 "nbformat_minor": 2
}
